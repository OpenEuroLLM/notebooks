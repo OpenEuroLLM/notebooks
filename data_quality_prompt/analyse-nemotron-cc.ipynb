{
 "cells": [
  {
   "cell_type": "code",
   "execution_count": 1,
   "id": "c8956a49-d50b-41e3-b2ef-263c2a5163b4",
   "metadata": {},
   "outputs": [
    {
     "name": "stderr",
     "output_type": "stream",
     "text": [
      "None of PyTorch, TensorFlow >= 2.0, or Flax have been found. Models won't be available and only tokenizers, configuration and file/data utilities can be used.\n"
     ]
    }
   ],
   "source": [
    "from transformers import AutoTokenizer\n",
    "import pandas as pd\n",
    "import seaborn as sns\n",
    "from ipywidgets import interact, interactive, fixed, interact_manual\n",
    "import ipywidgets as widgets\n",
    "import numpy as np\n",
    "import sklearn\n",
    "import matplotlib.pyplot as plt"
   ]
  },
  {
   "cell_type": "code",
   "execution_count": null,
   "id": "6b389c1b-1606-430b-9de1-80693ee4a986",
   "metadata": {},
   "outputs": [],
   "source": []
  },
  {
   "cell_type": "code",
   "execution_count": 2,
   "id": "9188dc4c-552b-4c54-9f19-274a06ac2dff",
   "metadata": {},
   "outputs": [
    {
     "name": "stdout",
     "output_type": "stream",
     "text": [
      "fatal: destination path 'tiny-nemotron-cc-sample' already exists and is not an empty directory.\n"
     ]
    }
   ],
   "source": [
    "!git clone https://github.com/spyysalo/tiny-nemotron-cc-sample/"
   ]
  },
  {
   "cell_type": "code",
   "execution_count": 3,
   "id": "6fc90d00-2dd0-436f-9c65-bfb1b2f61a92",
   "metadata": {},
   "outputs": [
    {
     "name": "stdout",
     "output_type": "stream",
     "text": [
      "2.3M\ttiny-nemotron-cc-sample/data/high-actual.jsonl\n",
      "700K\ttiny-nemotron-cc-sample/data/high-distill.jsonl\n",
      "2.0M\ttiny-nemotron-cc-sample/data/high-diverse_qa_pairs.jsonl\n",
      "1.3M\ttiny-nemotron-cc-sample/data/high-extract_knowledge.jsonl\n",
      "864K\ttiny-nemotron-cc-sample/data/high-knowledge_list.jsonl\n",
      "1.5M\ttiny-nemotron-cc-sample/data/high-wrap_medium.jsonl\n",
      "1.6M\ttiny-nemotron-cc-sample/data/low-actual.jsonl\n",
      "1.4M\ttiny-nemotron-cc-sample/data/low-wrap_medium.jsonl\n",
      "7.5M\ttiny-nemotron-cc-sample/data/medium-actual.jsonl\n",
      "1.6M\ttiny-nemotron-cc-sample/data/medium-high-actual.jsonl\n",
      "3.3M\ttiny-nemotron-cc-sample/data/medium-low-actual.jsonl\n"
     ]
    }
   ],
   "source": [
    "!du -h tiny-nemotron-cc-sample/data/*"
   ]
  },
  {
   "cell_type": "code",
   "execution_count": 4,
   "id": "5d9ef53b-d744-4007-9a99-ffd3420d2a9d",
   "metadata": {},
   "outputs": [
    {
     "data": {
      "text/html": [
       "<div>\n",
       "<style scoped>\n",
       "    .dataframe tbody tr th:only-of-type {\n",
       "        vertical-align: middle;\n",
       "    }\n",
       "\n",
       "    .dataframe tbody tr th {\n",
       "        vertical-align: top;\n",
       "    }\n",
       "\n",
       "    .dataframe thead th {\n",
       "        text-align: right;\n",
       "    }\n",
       "</style>\n",
       "<table border=\"1\" class=\"dataframe\">\n",
       "  <thead>\n",
       "    <tr style=\"text-align: right;\">\n",
       "      <th></th>\n",
       "      <th>text</th>\n",
       "      <th>language</th>\n",
       "      <th>warc_record_id</th>\n",
       "      <th>url</th>\n",
       "      <th>score</th>\n",
       "    </tr>\n",
       "  </thead>\n",
       "  <tbody>\n",
       "    <tr>\n",
       "      <th>0</th>\n",
       "      <td>In the autumn, falling leaves and dried-out we...</td>\n",
       "      <td>eng</td>\n",
       "      <td>ae74c0dc-785d-4c76-82e8-61ab46313f15</td>\n",
       "      <td>http://www.wcax.com/story/15369365/is-your-dog...</td>\n",
       "      <td>5</td>\n",
       "    </tr>\n",
       "    <tr>\n",
       "      <th>1</th>\n",
       "      <td>One of the 12 constellations introduced at the...</td>\n",
       "      <td>eng</td>\n",
       "      <td>f41502ad-88f3-4ba9-96ea-04d301175c19</td>\n",
       "      <td>http://www.ianridpath.com/startales/grus.htm</td>\n",
       "      <td>5</td>\n",
       "    </tr>\n",
       "    <tr>\n",
       "      <th>2</th>\n",
       "      <td>pictures</td>\n",
       "      <td>eng</td>\n",
       "      <td>0f3462fe-8fa1-47bf-8396-acb92e997f95</td>\n",
       "      <td>http://www.itshareware.com/catlist-code_157-st...</td>\n",
       "      <td>5</td>\n",
       "    </tr>\n",
       "    <tr>\n",
       "      <th>3</th>\n",
       "      <td>Avoid Frying When Flying: Eliminate Ionizing R...</td>\n",
       "      <td>eng</td>\n",
       "      <td>f42b4f0e-eb41-4c0a-b7d3-c615780be0f0</td>\n",
       "      <td>http://www.naturalnews.com/030425_radiation_fl...</td>\n",
       "      <td>5</td>\n",
       "    </tr>\n",
       "    <tr>\n",
       "      <th>4</th>\n",
       "      <td>Posts Tagged pacho galan\\n\\nNothing sexier in ...</td>\n",
       "      <td>eng</td>\n",
       "      <td>dcf4b10d-db43-4e6b-b7ed-d0a037f7a760</td>\n",
       "      <td>http://generationbass.com/tag/pacho-galan/</td>\n",
       "      <td>5</td>\n",
       "    </tr>\n",
       "  </tbody>\n",
       "</table>\n",
       "</div>"
      ],
      "text/plain": [
       "                                                text language  \\\n",
       "0  In the autumn, falling leaves and dried-out we...      eng   \n",
       "1  One of the 12 constellations introduced at the...      eng   \n",
       "2                                           pictures      eng   \n",
       "3  Avoid Frying When Flying: Eliminate Ionizing R...      eng   \n",
       "4  Posts Tagged pacho galan\\n\\nNothing sexier in ...      eng   \n",
       "\n",
       "                         warc_record_id  \\\n",
       "0  ae74c0dc-785d-4c76-82e8-61ab46313f15   \n",
       "1  f41502ad-88f3-4ba9-96ea-04d301175c19   \n",
       "2  0f3462fe-8fa1-47bf-8396-acb92e997f95   \n",
       "3  f42b4f0e-eb41-4c0a-b7d3-c615780be0f0   \n",
       "4  dcf4b10d-db43-4e6b-b7ed-d0a037f7a760   \n",
       "\n",
       "                                                 url  score  \n",
       "0  http://www.wcax.com/story/15369365/is-your-dog...      5  \n",
       "1       http://www.ianridpath.com/startales/grus.htm      5  \n",
       "2  http://www.itshareware.com/catlist-code_157-st...      5  \n",
       "3  http://www.naturalnews.com/030425_radiation_fl...      5  \n",
       "4         http://generationbass.com/tag/pacho-galan/      5  "
      ]
     },
     "execution_count": 4,
     "metadata": {},
     "output_type": "execute_result"
    }
   ],
   "source": [
    "score_files = {\n",
    "    5: \"tiny-nemotron-cc-sample/data/high-actual.jsonl\",\n",
    "    4: \"tiny-nemotron-cc-sample/data/medium-high-actual.jsonl\",\n",
    "    3: \"tiny-nemotron-cc-sample/data/medium-actual.jsonl\",    \n",
    "    2: \"tiny-nemotron-cc-sample/data/medium-low-actual.jsonl\",\n",
    "    1: \"tiny-nemotron-cc-sample/data/low-actual.jsonl\",\n",
    "}\n",
    "dfs = []\n",
    "\n",
    "for score, filename in score_files.items():\n",
    "    df = pd.read_json(filename, lines=True)\n",
    "    df[\"score\"] = score\n",
    "    dfs.append(df)\n",
    "df = pd.concat(dfs, ignore_index=True)\n",
    "df.head()"
   ]
  },
  {
   "cell_type": "code",
   "execution_count": 5,
   "id": "a285726f-98c0-4513-8c22-3722afd95259",
   "metadata": {},
   "outputs": [
    {
     "data": {
      "image/png": "[encoded data removed]",
      "text/plain": [
       "<Figure size 640x480 with 1 Axes>"
      ]
     },
     "metadata": {},
     "output_type": "display_data"
    }
   ],
   "source": [
    "ax = df.score.value_counts().sort_index().plot(kind=\"bar\")\n",
    "ax.set_title(\"Score distribution\")\n",
    "ax.grid()"
   ]
  },
  {
   "cell_type": "code",
   "execution_count": 6,
   "id": "ebb71f73-ddf6-491f-853b-e80f8162227e",
   "metadata": {},
   "outputs": [
    {
     "name": "stdout",
     "output_type": "stream",
     "text": [
      "Python 3.12.9\n"
     ]
    }
   ],
   "source": [
    "!python --version"
   ]
  },
  {
   "cell_type": "code",
   "execution_count": 33,
   "id": "91d1b6f2-ba43-4274-9abd-d58ae17f2fac",
   "metadata": {},
   "outputs": [
    {
     "data": {
      "application/vnd.jupyter.widget-view+json": {
       "model_id": "18001fc58532425b8d59d8d19c321853",
       "version_major": 2,
       "version_minor": 0
      },
      "text/plain": [
       "interactive(children=(IntText(value=0, description='i'), Output()), _dom_classes=('widget-interact',))"
      ]
     },
     "metadata": {},
     "output_type": "display_data"
    },
    {
     "data": {
      "text/plain": [
       "<function __main__.show_given_record(i: int)>"
      ]
     },
     "execution_count": 33,
     "metadata": {},
     "output_type": "execute_result"
    }
   ],
   "source": [
    "def show_given_record(i: int):\n",
    "    print(f\"-----{i}------\")\n",
    "    print(f'{df.loc[i, \"text\"]}')\n",
    "    print(f'{df.loc[i, \"url\"]}')\n",
    "    print(f'Score: {df.loc[i, \"score\"]}')\n",
    "\n",
    "interact(show_given_record)"
   ]
  },
  {
   "cell_type": "code",
   "execution_count": 8,
   "id": "be4e9035-0f75-478d-8ec4-530e2b760057",
   "metadata": {},
   "outputs": [
    {
     "name": "stdout",
     "output_type": "stream",
     "text": [
      "                                                text  token_count\n",
      "0  In the autumn, falling leaves and dried-out we...          257\n",
      "1  One of the 12 constellations introduced at the...          410\n",
      "2                                           pictures            1\n",
      "3  Avoid Frying When Flying: Eliminate Ionizing R...          707\n",
      "4  Posts Tagged pacho galan\\n\\nNothing sexier in ...           93\n",
      "Total tokens: 3450034\n"
     ]
    }
   ],
   "source": [
    "# count the number of tokens\n",
    "tokenizer = AutoTokenizer.from_pretrained(\"meta-llama/Meta-Llama-3-8B-Instruct\")\n",
    "\n",
    "# Function to count tokens\n",
    "def count_tokens(text):\n",
    "    tokens = tokenizer.encode(text, add_special_tokens=False)\n",
    "    return len(tokens)\n",
    "\n",
    "# Apply the function to create a new column with token counts\n",
    "df['token_count'] = df['text'].apply(count_tokens)\n",
    "\n",
    "# View the first few rows with token counts\n",
    "print(df[['text', 'token_count']].head())\n",
    "\n",
    "# Get total tokens across all rows\n",
    "total_tokens = df['token_count'].sum()\n",
    "print(f\"Total tokens: {total_tokens}\")"
   ]
  },
  {
   "cell_type": "code",
   "execution_count": 9,
   "id": "6b6d1597-b20c-4e4a-9802-2acd17a309a3",
   "metadata": {},
   "outputs": [
    {
     "name": "stdout",
     "output_type": "stream",
     "text": [
      "Total tokens of documents with <2K tokens: 2096942\n"
     ]
    }
   ],
   "source": [
    "total_tokens = df.loc[df.token_count < 2000, 'token_count'].sum()\n",
    "print(f\"Total tokens of documents with <2K tokens: {total_tokens}\")"
   ]
  },
  {
   "cell_type": "code",
   "execution_count": 10,
   "id": "d6c89e52-8e30-409d-bb18-5a5d35968030",
   "metadata": {},
   "outputs": [
    {
     "data": {
      "image/png": "[encoded data removed]",
      "text/plain": [
       "<Figure size 640x480 with 1 Axes>"
      ]
     },
     "metadata": {},
     "output_type": "display_data"
    }
   ],
   "source": [
    "ax = sns.histplot(df[\"token_count\"], log_scale=True)\n",
    "ax.set_title(\"Distribution of number of tokens per document\")\n",
    "ax.set_xlabel(\"Number of tokens\")\n",
    "ax.grid()"
   ]
  },
  {
   "cell_type": "code",
   "execution_count": 11,
   "id": "82c5a898-fbca-400a-912d-d01580573667",
   "metadata": {},
   "outputs": [
    {
     "name": "stdout",
     "output_type": "stream",
     "text": [
      "Expected price: 0.37744955999999996\n"
     ]
    }
   ],
   "source": [
    "price_per_1M_token = 0.18  # 8B-turbo\n",
    "#price_per_1M_token = 0.88  # 70B-turbo\n",
    "print(f\"Expected price: {total_tokens * price_per_1M_token * 1e-6}\")"
   ]
  },
  {
   "cell_type": "markdown",
   "id": "2e55f7c1-f254-430f-b9d1-1b408f6666a0",
   "metadata": {},
   "source": [
    "# Test document quality judge"
   ]
  },
  {
   "cell_type": "code",
   "execution_count": 12,
   "id": "b0a20fc5-ecb8-4d00-a8de-c8755ecbb283",
   "metadata": {},
   "outputs": [],
   "source": [
    "from langchain_core.prompts import ChatPromptTemplate\n",
    "from langchain_together import ChatTogether\n",
    "from langchain_community.cache import SQLiteCache\n",
    "from langchain_core.globals import set_llm_cache\n",
    "\n",
    "set_llm_cache(SQLiteCache(database_path=\".langchain.db\"))\n",
    "\n",
    "model = \"meta-llama/Meta-Llama-3.1-8B-Instruct-Turbo\"\n",
    "chat_model = ChatTogether(model=model)"
   ]
  },
  {
   "cell_type": "code",
   "execution_count": 13,
   "id": "6fedcba3-9c2b-4713-b645-ef894e03aa59",
   "metadata": {},
   "outputs": [
    {
     "name": "stdout",
     "output_type": "stream",
     "text": [
      "Evaluate the following text extract for its potential usefulness for studying mathematics up to high school and early undergraduate levels. Use the following 5-point scoring system described below. Points are accumulated based on the satisfaction of each criterion:\n",
      "\n",
      "- Add 1 point if the extract contains some mathematical content, even if it's not very useful for studying, or if it contains non-academic content such as advertisements and generated pages for converting weight and currencies.\n",
      "- Add another point if the extract touches on mathematical topics, even if it's poorly written if it's too complex such as an academic paper that is too advanced.\n",
      "- Award a third point if the extract demonstrates problem solving or logical reasoning in a mathematical context, even if it lacks step-by-step explanations.\n",
      "- Grant a fourth point if the extract is at an appropriate level (up to high school and early undergraduate levels) and contains clear mathematical deductions and step-by-step solutions to mathematical problems. It should be similar to a chapter from a textbook or a tutorial.\n",
      "- Give a fifth point if the extract is outstanding in its educational value for teaching and studying mathematics in middle school and high school. It should include very detailed and easy to follow explanations.\n",
      "\n",
      "Question-answer formats (e.g., from educational websites or forums) are acceptable if they meet the criteria.\n",
      "\n",
      "The text extract:\n",
      "{prompt}\n",
      "\n",
      "After examining the extract:\n",
      "- Briefly justify your total score, up to 100 words.\n",
      "- Conclude with the score using the format: Final score: <total points>.\n",
      "\n"
     ]
    }
   ],
   "source": [
    "# Prompt from SmolLM2 https://arxiv.org/pdf/2502.02737 Appendix C.3\n",
    "system_template_smollm2 = \"You are a smart assistant helping to measure the quality of text.\"\n",
    "prompt_analysis_smollm2 = '''\\\n",
    "Evaluate the following text extract for its potential usefulness for studying mathematics up to high school and early undergraduate levels. Use the following 5-point scoring system described below. Points are accumulated based on the satisfaction of each criterion:\n",
    "\n",
    "- Add 1 point if the extract contains some mathematical content, even if it's not very useful for studying, or if it contains non-academic content such as advertisements and generated pages for converting weight and currencies.\n",
    "- Add another point if the extract touches on mathematical topics, even if it's poorly written if it's too complex such as an academic paper that is too advanced.\n",
    "- Award a third point if the extract demonstrates problem solving or logical reasoning in a mathematical context, even if it lacks step-by-step explanations.\n",
    "- Grant a fourth point if the extract is at an appropriate level (up to high school and early undergraduate levels) and contains clear mathematical deductions and step-by-step solutions to mathematical problems. It should be similar to a chapter from a textbook or a tutorial.\n",
    "- Give a fifth point if the extract is outstanding in its educational value for teaching and studying mathematics in middle school and high school. It should include very detailed and easy to follow explanations.\n",
    "\n",
    "Question-answer formats (e.g., from educational websites or forums) are acceptable if they meet the criteria.\n",
    "\n",
    "The text extract:\n",
    "{prompt}\n",
    "\n",
    "After examining the extract:\n",
    "- Briefly justify your total score, up to 100 words.\n",
    "- Conclude with the score using the format: Final score: <total points>.\n",
    "'''\n",
    "print(prompt_analysis_smollm2)"
   ]
  },
  {
   "cell_type": "code",
   "execution_count": 14,
   "id": "f851c759-9593-40cc-bd0e-4f4ac409b209",
   "metadata": {},
   "outputs": [],
   "source": [
    "prompt_template_smollm2 = ChatPromptTemplate.from_messages([\n",
    "    (\"system\", system_template_smollm2), \n",
    "    (\"user\", prompt_analysis_smollm2),\n",
    "])\n",
    "#print(prompt.messages[1].content)"
   ]
  },
  {
   "cell_type": "code",
   "execution_count": 15,
   "id": "3eed63f8-b191-4581-8bb5-7f8068787d50",
   "metadata": {},
   "outputs": [
    {
     "name": "stdout",
     "output_type": "stream",
     "text": [
      "Below is an extract from a web page. Evaluate whether the page has a high educational value and could be useful in an educational setting for teaching from primary school to grade school levels using the additive 5-point scoring system described below. Points are accumulated based on the satisfaction of each criterion:\n",
      "• Add 1 point if the extract provides some basic information relevant to educational topics, even if it includes some irrelevant or non-academic content like advertisements and promotional material.\n",
      "• Add another point if the extract addresses certain elements pertinent to education but does not align closely with educational standards. It might mix educational content with non-educational material, offering a superficial overview of potentially useful topics, or presenting information in a disorganized manner and incoherent writing style.\n",
      "• Award a third point if the extract is appropriate for educational use and introduces key concepts relevant to school curricula. It is coherent though it may not be comprehensive or could include some extraneous information. It may resemble an introductory section of a textbook or a basic tutorial that is suitable for learning but has notable limitations like treating concepts that are too complex for grade school students.\n",
      "• Grant a fourth point if the extract highly relevant and beneficial for educational purposes for a level not higher than grade school, exhibiting a clear and consistent writing style. It could be similar to a chapter from a textbook or a tutorial, offering substantial educational content, including exercises and solutions, with minimal irrelevant information, and the concepts aren't too advanced for grade school students. The content is coherent, focused, and valuable for structured learning.\n",
      "• Bestow a fifth point if the extract is outstanding in its educational value, perfectly suited for teaching either at primary school or grade school. It follows detailed reasoning, the writing style is easy to follow and offers profound and thorough insights into the subject matter, devoid of any non-educational or complex content.\n",
      "\n",
      "The extract: {prompt}.\n",
      "\n",
      "After examining the extract:\n",
      "• Briefly justify your total score, up to 100 words.\n",
      "• Conclude with the score using the format: \"Educational score: <total points>\"\n",
      "\n"
     ]
    }
   ],
   "source": [
    "system_template_fwedu = \"You are a smart assistant helping to measure the quality of text.\"\n",
    "prompt_analysis_fwedu = '''\\\n",
    "Below is an extract from a web page. Evaluate whether the page has a high educational value and could be useful in an educational setting for teaching from primary school to grade school levels using the additive 5-point scoring system described below. Points are accumulated based on the satisfaction of each criterion:\n",
    "• Add 1 point if the extract provides some basic information relevant to educational topics, even if it includes some irrelevant or non-academic content like advertisements and promotional material.\n",
    "• Add another point if the extract addresses certain elements pertinent to education but does not align closely with educational standards. It might mix educational content with non-educational material, offering a superficial overview of potentially useful topics, or presenting information in a disorganized manner and incoherent writing style.\n",
    "• Award a third point if the extract is appropriate for educational use and introduces key concepts relevant to school curricula. It is coherent though it may not be comprehensive or could include some extraneous information. It may resemble an introductory section of a textbook or a basic tutorial that is suitable for learning but has notable limitations like treating concepts that are too complex for grade school students.\n",
    "• Grant a fourth point if the extract highly relevant and beneficial for educational purposes for a level not higher than grade school, exhibiting a clear and consistent writing style. It could be similar to a chapter from a textbook or a tutorial, offering substantial educational content, including exercises and solutions, with minimal irrelevant information, and the concepts aren't too advanced for grade school students. The content is coherent, focused, and valuable for structured learning.\n",
    "• Bestow a fifth point if the extract is outstanding in its educational value, perfectly suited for teaching either at primary school or grade school. It follows detailed reasoning, the writing style is easy to follow and offers profound and thorough insights into the subject matter, devoid of any non-educational or complex content.\n",
    "\n",
    "The extract: {prompt}.\n",
    "\n",
    "After examining the extract:\n",
    "• Briefly justify your total score, up to 100 words.\n",
    "• Conclude with the score using the format: \"Educational score: <total points>\"\n",
    "'''\n",
    "prompt_template_fwedu = ChatPromptTemplate.from_messages([\n",
    "    (\"system\", system_template_fwedu), \n",
    "    (\"user\", prompt_analysis_fwedu),\n",
    "])\n",
    "\n",
    "print(prompt_analysis_fwedu)"
   ]
  },
  {
   "cell_type": "code",
   "execution_count": 16,
   "id": "ee915738-eeec-4d66-a962-6a1a48f791eb",
   "metadata": {},
   "outputs": [],
   "source": [
    "#prompt_example = prompt_template.invoke({\"prompt\": \"The European Union decided to fund a large project to train an LLM.\"})\n",
    "#print(prompt_example.messages[1].content)"
   ]
  },
  {
   "cell_type": "code",
   "execution_count": 17,
   "id": "0509d031-c611-409e-897e-7d05a614b941",
   "metadata": {},
   "outputs": [
    {
     "name": "stdout",
     "output_type": "stream",
     "text": [
      "Justification: \n",
      "The extract provides some basic information relevant to educational topics, specifically mentioning a project related to LLM (Large Language Model) training. However, it lacks context and details about the project, making it difficult to assess its educational value. The extract does not align closely with educational standards, and it does not introduce key concepts relevant to school curricula. It is also unclear if the content is suitable for grade school students. The writing style is concise but lacks coherence and focus.\n",
      "\n",
      "Total score: 1 point\n",
      "\n",
      "Educational score: 1\n",
      "\n",
      "---\n",
      "Text:The European Union decided to fund a large project to train an LLM.\n"
     ]
    }
   ],
   "source": [
    "text = \"The European Union decided to fund a large project to train an LLM.\"\n",
    "prompt_templated = prompt_template_fwedu.invoke({\"prompt\": text})\n",
    "res = chat_model.invoke(prompt_templated)\n",
    "completion = res.content\n",
    "print(completion)\n",
    "print(f'\\n---\\nText:{text}')"
   ]
  },
  {
   "cell_type": "code",
   "execution_count": 18,
   "id": "c0cf47fd-7a58-4368-8a0d-2f01b68b5afb",
   "metadata": {},
   "outputs": [
    {
     "name": "stdout",
     "output_type": "stream",
     "text": [
      "After examining the text extract, I found that it contains some mathematical content, specifically the mention of the brightest star's magnitude (second magnitude) and the use of astronomical coordinates (e.g., Piscis Austrinus). However, the extract does not touch on mathematical topics relevant to high school and early undergraduate levels. It also does not demonstrate problem-solving or logical reasoning in a mathematical context. The extract is written in a historical and descriptive style, focusing on the constellation Grus and its associations. It does not contain clear mathematical deductions or step-by-step solutions to mathematical problems.\n",
      "\n",
      "The extract is not at an appropriate level for studying mathematics up to high school and early undergraduate levels, and it lacks detailed explanations. However, it does provide some interesting historical and cultural information about the constellation Grus.\n",
      "\n",
      "Final score: 1.\n",
      "\n",
      "---\n",
      "Text:One of the 12 constellations introduced at the end of the 16th century by the\n",
      "Dutch navigators Pieter Dirkszoon Keyser and Frederick de Houtman after their\n",
      "pioneer mapping of the southern skies. Grus represents a long-necked wading\n",
      "bird, the crane.\n",
      "\n",
      "The constellation was first shown on a celestial globe by Petrus Plancius in\n",
      "1598 under the name Krane Grus, respectively Dutch and Latin words for crane,\n",
      "although on a later Plancius globe issued posthumously in 1625 it bore the\n",
      "alternative title of Phoenicopterus, the flamingo. As another identification,\n",
      "de Houtman called it Den Reygher, the heron, in his southern star catalogue of 1603. Johannes Bayer adopted the\n",
      "name Grus for the constellation in his Uranometria atlas of 1603, and the original identification as a crane won out.\n",
      "\n",
      "Grus cranes its neck in the Uranographia of Johann Bode (1801).\n",
      "\n",
      "Grus was formed from stars south of Piscis Austrinus, the Southern Fish. The\n",
      "constellation's brightest star, of second magnitude, is named Alnair, from an abbreviation of\n",
      "the Arabic meaning 'the bright one from the fish's tail', for the Arabs had extended the tail of Piscis Austrinus southwards into this\n",
      "region. There are no legends associated with Grus, but in Greek mythology the\n",
      "crane was sacred to Hermes.\n",
      "\n",
      "Chinese associations\n",
      "\n",
      "Being so far south, the stars of Grus barely featured in the Chinese\n",
      "constellation system. However, part of the Chinese constellation Baijiu lay in this area, representing a kind of celestial skip for waste. Baijiu consisted of four stars forming a tub shape. The present-day Gamma Gruis could\n",
      "have been one of them, and possibly Lambda Gruis was a member too. The rest of Baijiu lay to the north in Piscis Austrinus.\n"
     ]
    }
   ],
   "source": [
    "# Run the scorer on a given document\n",
    "i = 1\n",
    "prompt_templated = prompt_template_smollm2.invoke({\"prompt\": df.loc[i, \"text\"]})\n",
    "res = chat_model.invoke(prompt_templated)\n",
    "completion = res.content\n",
    "print(completion)\n",
    "print(f'\\n---\\nText:{df.loc[i, \"text\"]}')"
   ]
  },
  {
   "cell_type": "code",
   "execution_count": 20,
   "id": "437563a1-ab9a-418b-b10a-90a6826c3a5d",
   "metadata": {},
   "outputs": [],
   "source": [
    "import re\n",
    "\n",
    "class Scorer:\n",
    "    def score(text: str) -> int:\n",
    "        return 1"
   ]
  },
  {
   "cell_type": "code",
   "execution_count": 21,
   "id": "f335da76-0ef4-4178-9f30-7c2f9068aa19",
   "metadata": {},
   "outputs": [
    {
     "name": "stdout",
     "output_type": "stream",
     "text": [
      "Input text:\n",
      "The European Union decided to fund a large project to train an LLM.\n",
      "--\n",
      "Completion:\n",
      "After examining the text extract, I found that it contains some non-academic content (1 point) as it appears to be a snippet of a news article or a discussion about a project. However, it does not touch on any mathematical topics (0 points), demonstrate problem solving or logical reasoning (0 points), contain clear mathematical deductions and step-by-step solutions (0 points), or provide detailed and easy-to-follow explanations (0 points).\n",
      "\n",
      "Justification: The text extract is not related to mathematics and does not provide any educational value for studying mathematics up to high school and early undergraduate levels.\n",
      "\n",
      "Final score: 1.\n",
      "--\n",
      "Score: 1\n"
     ]
    },
    {
     "data": {
      "text/plain": [
       "[1]"
      ]
     },
     "execution_count": 21,
     "metadata": {},
     "output_type": "execute_result"
    }
   ],
   "source": [
    "def extract_score_smollm2(completion: str):\n",
    "    # Look for \"Final score:\" followed by optional whitespace and an integer\n",
    "    match = re.search(r'Final score:\\s*(\\d+)', completion)    \n",
    "    if match:\n",
    "        return int(np.clip(int(match.group(1)), 0, 5))\n",
    "    else:\n",
    "        return None\n",
    "        \n",
    "class ScorerSmolLM2:\n",
    "    def __init__(self, model: str):\n",
    "        self.model = model\n",
    "        self.prompt_template = prompt_template_smollm2\n",
    "        self.extract_score = extract_score_smollm2\n",
    "        self.chat_model = ChatTogether(model=model)\n",
    "        \n",
    "    def score_batch(self, texts: list[str], verbose: bool = False):\n",
    "        prompt_templated = [self.prompt_template.invoke({\"prompt\": text}) for text in texts]\n",
    "        completions = self.chat_model.batch(prompt_templated)        \n",
    "        scores = [self.extract_score(completion.content) for completion in completions]           \n",
    "        if verbose:\n",
    "            for text, completion, score in zip(texts, completions, scores):\n",
    "                print(f\"Input text:\\n{text}\\n--\")\n",
    "                print(f\"Completion:\\n{completion.content}\\n--\")\n",
    "                print(f\"Score: {score}\")\n",
    "        return scores\n",
    "    \n",
    "    def __str__(self):\n",
    "        model = self.model.split(\"/\")[1]\n",
    "        return f\"SmolLM2-{model}\"\n",
    "\n",
    "ScorerSmolLM2(model=\"meta-llama/Meta-Llama-3.1-8B-Instruct-Turbo\").score_batch([text], verbose=True)"
   ]
  },
  {
   "cell_type": "code",
   "execution_count": 22,
   "id": "edb18315-9346-4d75-9bf9-863d5a9b76f5",
   "metadata": {},
   "outputs": [
    {
     "name": "stdout",
     "output_type": "stream",
     "text": [
      "Input text:\n",
      "The European Union decided to fund a large project to train an LLM.\n",
      "--\n",
      "Completion:\n",
      "Justification: \n",
      "The extract provides some basic information relevant to educational topics, specifically mentioning a project related to LLM (Large Language Model) training. However, it lacks context and details about the project, making it difficult to assess its educational value. The extract does not align closely with educational standards, and it does not introduce key concepts relevant to school curricula. It is also unclear if the content is suitable for grade school students. The writing style is concise but lacks coherence and focus.\n",
      "\n",
      "Total score: 1 point\n",
      "\n",
      "Educational score: 1\n",
      "--\n",
      "Score: 1\n"
     ]
    },
    {
     "data": {
      "text/plain": [
       "[1]"
      ]
     },
     "execution_count": 22,
     "metadata": {},
     "output_type": "execute_result"
    }
   ],
   "source": [
    "def extract_score_fwedu(completion: str):\n",
    "    # Look for \"Final score:\" followed by optional whitespace and an integer\n",
    "    match = re.search(r'Educational score:\\s*(\\d+)', completion)    \n",
    "    if match:\n",
    "        return int(np.clip(int(match.group(1)), 0, 5))\n",
    "    else:\n",
    "        return None\n",
    "        \n",
    "class ScorerSmolFWEDU(ScorerSmolLM2):\n",
    "    def __init__(self, model: str):\n",
    "        super(ScorerSmolFWEDU, self).__init__(model)        \n",
    "        self.prompt_template = prompt_template_fwedu\n",
    "        self.extract_score = extract_score_fwedu\n",
    "\n",
    "    def __str__(self):\n",
    "        model = self.model.split(\"/\")[1]\n",
    "        return f\"FWEDU-{model}\"\n",
    "\n",
    "ScorerSmolFWEDU(model=\"meta-llama/Meta-Llama-3.1-8B-Instruct-Turbo\").score_batch([text], verbose=True)"
   ]
  },
  {
   "cell_type": "markdown",
   "id": "14cd4379-58d3-4e4d-9447-404cf39c38cb",
   "metadata": {},
   "source": [
    "# Run document quality judge on corpus"
   ]
  },
  {
   "cell_type": "code",
   "execution_count": 23,
   "id": "91a5d8cd-7f1e-410c-93cc-d34c6cb337a8",
   "metadata": {},
   "outputs": [
    {
     "name": "stdout",
     "output_type": "stream",
     "text": [
      "Eval score 5 with 100 samples and scorer FWEDU-Meta-Llama-3.1-8B-Instruct-Turbo.\n",
      "Eval score 5 with 100 samples and scorer SmolLM2-Meta-Llama-3.1-8B-Instruct-Turbo.\n",
      "Eval score 5 with 100 samples and scorer FWEDU-Meta-Llama-3.1-70B-Instruct-Turbo.\n",
      "Eval score 5 with 100 samples and scorer SmolLM2-Meta-Llama-3.1-70B-Instruct-Turbo.\n",
      "Eval score 4 with 100 samples and scorer FWEDU-Meta-Llama-3.1-8B-Instruct-Turbo.\n",
      "Eval score 4 with 100 samples and scorer SmolLM2-Meta-Llama-3.1-8B-Instruct-Turbo.\n",
      "Eval score 4 with 100 samples and scorer FWEDU-Meta-Llama-3.1-70B-Instruct-Turbo.\n",
      "Eval score 4 with 100 samples and scorer SmolLM2-Meta-Llama-3.1-70B-Instruct-Turbo.\n",
      "Eval score 3 with 100 samples and scorer FWEDU-Meta-Llama-3.1-8B-Instruct-Turbo.\n",
      "Eval score 3 with 100 samples and scorer SmolLM2-Meta-Llama-3.1-8B-Instruct-Turbo.\n",
      "Eval score 3 with 100 samples and scorer FWEDU-Meta-Llama-3.1-70B-Instruct-Turbo.\n",
      "Eval score 3 with 100 samples and scorer SmolLM2-Meta-Llama-3.1-70B-Instruct-Turbo.\n",
      "Eval score 2 with 100 samples and scorer FWEDU-Meta-Llama-3.1-8B-Instruct-Turbo.\n",
      "Eval score 2 with 100 samples and scorer SmolLM2-Meta-Llama-3.1-8B-Instruct-Turbo.\n",
      "Eval score 2 with 100 samples and scorer FWEDU-Meta-Llama-3.1-70B-Instruct-Turbo.\n",
      "Eval score 2 with 100 samples and scorer SmolLM2-Meta-Llama-3.1-70B-Instruct-Turbo.\n",
      "Eval score 1 with 100 samples and scorer FWEDU-Meta-Llama-3.1-8B-Instruct-Turbo.\n",
      "Eval score 1 with 100 samples and scorer SmolLM2-Meta-Llama-3.1-8B-Instruct-Turbo.\n",
      "Eval score 1 with 100 samples and scorer FWEDU-Meta-Llama-3.1-70B-Instruct-Turbo.\n",
      "Eval score 1 with 100 samples and scorer SmolLM2-Meta-Llama-3.1-70B-Instruct-Turbo.\n"
     ]
    }
   ],
   "source": [
    "from collections import defaultdict\n",
    "import random\n",
    "random.seed(0)\n",
    "\n",
    "df_shuffle = df.sample(frac=1, replace=False, random_state=0).copy()\n",
    "\n",
    "n_draws = 100\n",
    "score = 5\n",
    "models = [\n",
    "    \"meta-llama/Meta-Llama-3.1-8B-Instruct-Turbo\",\n",
    "    \"meta-llama/Meta-Llama-3.1-70B-Instruct-Turbo\",\n",
    "]\n",
    "\n",
    "# For every score:\n",
    "# 1) generate subsample dataframe with score \n",
    "# 2) call LLM scorer to get completion\n",
    "# 3) parse values and add to dataframe\n",
    "df_scores_models = defaultdict(list)\n",
    "\n",
    "scorers = [\n",
    "    scorer_cls(model)\n",
    "    for model in models\n",
    "    for scorer_cls in [ScorerSmolFWEDU, ScorerSmolLM2]\n",
    "]\n",
    "\n",
    "for score in [5, 4, 3, 2, 1]: \n",
    "    df_score = df_shuffle[(df_shuffle.score == score) & (df_shuffle.token_count < 2000)]\n",
    "    df_score = df_score.head(n_draws).copy()\n",
    "\n",
    "    df_nemotron = df_score.loc[:, [\"text\", \"score\"]].copy()\n",
    "    df_nemotron[\"model\"] = \"Nemotron-cc\"\n",
    "    df_nemotron[\"scorer\"] = \"Nemotron-cc\"\n",
    "\n",
    "    df_scores_models[\"Nemotron-cc\"].append(df_nemotron)\n",
    "\n",
    "    for scorer in scorers:    \n",
    "        print(f\"Eval score {score} with {len(df_score)} samples and scorer {str(scorer)}.\")\n",
    "        scores = scorer.score_batch(df_score.loc[:, \"text\"].values.tolist())\n",
    "        df_score[\"model\"] = scorer.model\n",
    "        df_score[\"score\"] = scores\n",
    "        df_score[\"scorer\"] = str(scorer.__class__.__name__)\n",
    "        df_scores_models[str(scorer)].append(df_score.loc[:, [\"text\", \"model\", \"score\", \"scorer\"]])\n"
   ]
  },
  {
   "cell_type": "code",
   "execution_count": 24,
   "id": "6317c727-34fe-466f-a85e-bca59697f128",
   "metadata": {},
   "outputs": [
    {
     "data": {
      "text/plain": [
       "2500"
      ]
     },
     "execution_count": 24,
     "metadata": {},
     "output_type": "execute_result"
    }
   ],
   "source": [
    "df_all_scores = pd.concat([df for dfs in df_scores_models.values() for df in dfs], ignore_index=True)\n",
    "len(df_all_scores)"
   ]
  },
  {
   "cell_type": "code",
   "execution_count": 25,
   "id": "7a34152a-1665-4bc4-9799-4f79598f9f0f",
   "metadata": {},
   "outputs": [
    {
     "data": {
      "text/html": [
       "<div>\n",
       "<style scoped>\n",
       "    .dataframe tbody tr th:only-of-type {\n",
       "        vertical-align: middle;\n",
       "    }\n",
       "\n",
       "    .dataframe tbody tr th {\n",
       "        vertical-align: top;\n",
       "    }\n",
       "\n",
       "    .dataframe thead th {\n",
       "        text-align: right;\n",
       "    }\n",
       "</style>\n",
       "<table border=\"1\" class=\"dataframe\">\n",
       "  <thead>\n",
       "    <tr style=\"text-align: right;\">\n",
       "      <th></th>\n",
       "      <th>text</th>\n",
       "      <th>score</th>\n",
       "      <th>model</th>\n",
       "      <th>scorer</th>\n",
       "    </tr>\n",
       "  </thead>\n",
       "  <tbody>\n",
       "    <tr>\n",
       "      <th>0</th>\n",
       "      <td>In August, the Board of Regents amended the re...</td>\n",
       "      <td>5.0</td>\n",
       "      <td>Nemotron-cc</td>\n",
       "      <td>Nemotron-cc</td>\n",
       "    </tr>\n",
       "    <tr>\n",
       "      <th>1</th>\n",
       "      <td>Vivek High School, Mohali, Book Set for Class ...</td>\n",
       "      <td>5.0</td>\n",
       "      <td>Nemotron-cc</td>\n",
       "      <td>Nemotron-cc</td>\n",
       "    </tr>\n",
       "    <tr>\n",
       "      <th>2</th>\n",
       "      <td>2\\n\\nThe article on Nobel prizes, \"What does ...</td>\n",
       "      <td>5.0</td>\n",
       "      <td>Nemotron-cc</td>\n",
       "      <td>Nemotron-cc</td>\n",
       "    </tr>\n",
       "    <tr>\n",
       "      <th>3</th>\n",
       "      <td>AK Vs AK full Movie\\n\\nHelmed by Vikramaditya ...</td>\n",
       "      <td>5.0</td>\n",
       "      <td>Nemotron-cc</td>\n",
       "      <td>Nemotron-cc</td>\n",
       "    </tr>\n",
       "    <tr>\n",
       "      <th>4</th>\n",
       "      <td>Change is in your pocket\\n\\nThe Big Issue is a...</td>\n",
       "      <td>5.0</td>\n",
       "      <td>Nemotron-cc</td>\n",
       "      <td>Nemotron-cc</td>\n",
       "    </tr>\n",
       "    <tr>\n",
       "      <th>...</th>\n",
       "      <td>...</td>\n",
       "      <td>...</td>\n",
       "      <td>...</td>\n",
       "      <td>...</td>\n",
       "    </tr>\n",
       "    <tr>\n",
       "      <th>2495</th>\n",
       "      <td>Monday, August 30, 2010\\n\\nCosmo has had this ...</td>\n",
       "      <td>0.0</td>\n",
       "      <td>meta-llama/Meta-Llama-3.1-70B-Instruct-Turbo</td>\n",
       "      <td>ScorerSmolLM2</td>\n",
       "    </tr>\n",
       "    <tr>\n",
       "      <th>2496</th>\n",
       "      <td>RILEY ENTERTAINMENT\\n\\nGROUP, INC.\\n\\nHome\\n\\n...</td>\n",
       "      <td>0.0</td>\n",
       "      <td>meta-llama/Meta-Llama-3.1-70B-Instruct-Turbo</td>\n",
       "      <td>ScorerSmolLM2</td>\n",
       "    </tr>\n",
       "    <tr>\n",
       "      <th>2497</th>\n",
       "      <td>Glenn Alexander Hosts Cancer Benefit Pig Gig 2...</td>\n",
       "      <td>0.0</td>\n",
       "      <td>meta-llama/Meta-Llama-3.1-70B-Instruct-Turbo</td>\n",
       "      <td>ScorerSmolLM2</td>\n",
       "    </tr>\n",
       "    <tr>\n",
       "      <th>2498</th>\n",
       "      <td>Search This Blog\\n\\nClash of the Tartans\\n\\nHa...</td>\n",
       "      <td>0.0</td>\n",
       "      <td>meta-llama/Meta-Llama-3.1-70B-Instruct-Turbo</td>\n",
       "      <td>ScorerSmolLM2</td>\n",
       "    </tr>\n",
       "    <tr>\n",
       "      <th>2499</th>\n",
       "      <td>SUZUKI DL 650 V-STROM\\n\\nA very clean low mile...</td>\n",
       "      <td>0.0</td>\n",
       "      <td>meta-llama/Meta-Llama-3.1-70B-Instruct-Turbo</td>\n",
       "      <td>ScorerSmolLM2</td>\n",
       "    </tr>\n",
       "  </tbody>\n",
       "</table>\n",
       "<p>2500 rows × 4 columns</p>\n",
       "</div>"
      ],
      "text/plain": [
       "                                                   text  score  \\\n",
       "0     In August, the Board of Regents amended the re...    5.0   \n",
       "1     Vivek High School, Mohali, Book Set for Class ...    5.0   \n",
       "2      2\\n\\nThe article on Nobel prizes, \"What does ...    5.0   \n",
       "3     AK Vs AK full Movie\\n\\nHelmed by Vikramaditya ...    5.0   \n",
       "4     Change is in your pocket\\n\\nThe Big Issue is a...    5.0   \n",
       "...                                                 ...    ...   \n",
       "2495  Monday, August 30, 2010\\n\\nCosmo has had this ...    0.0   \n",
       "2496  RILEY ENTERTAINMENT\\n\\nGROUP, INC.\\n\\nHome\\n\\n...    0.0   \n",
       "2497  Glenn Alexander Hosts Cancer Benefit Pig Gig 2...    0.0   \n",
       "2498  Search This Blog\\n\\nClash of the Tartans\\n\\nHa...    0.0   \n",
       "2499  SUZUKI DL 650 V-STROM\\n\\nA very clean low mile...    0.0   \n",
       "\n",
       "                                             model         scorer  \n",
       "0                                      Nemotron-cc    Nemotron-cc  \n",
       "1                                      Nemotron-cc    Nemotron-cc  \n",
       "2                                      Nemotron-cc    Nemotron-cc  \n",
       "3                                      Nemotron-cc    Nemotron-cc  \n",
       "4                                      Nemotron-cc    Nemotron-cc  \n",
       "...                                            ...            ...  \n",
       "2495  meta-llama/Meta-Llama-3.1-70B-Instruct-Turbo  ScorerSmolLM2  \n",
       "2496  meta-llama/Meta-Llama-3.1-70B-Instruct-Turbo  ScorerSmolLM2  \n",
       "2497  meta-llama/Meta-Llama-3.1-70B-Instruct-Turbo  ScorerSmolLM2  \n",
       "2498  meta-llama/Meta-Llama-3.1-70B-Instruct-Turbo  ScorerSmolLM2  \n",
       "2499  meta-llama/Meta-Llama-3.1-70B-Instruct-Turbo  ScorerSmolLM2  \n",
       "\n",
       "[2500 rows x 4 columns]"
      ]
     },
     "execution_count": 25,
     "metadata": {},
     "output_type": "execute_result"
    }
   ],
   "source": [
    "df_all_scores"
   ]
  },
  {
   "cell_type": "code",
   "execution_count": 26,
   "id": "4ca42073-b4d4-4bec-a200-e170964bfda4",
   "metadata": {},
   "outputs": [
    {
     "data": {
      "text/html": [
       "<div>\n",
       "<style scoped>\n",
       "    .dataframe tbody tr th:only-of-type {\n",
       "        vertical-align: middle;\n",
       "    }\n",
       "\n",
       "    .dataframe tbody tr th {\n",
       "        vertical-align: top;\n",
       "    }\n",
       "\n",
       "    .dataframe thead tr th {\n",
       "        text-align: left;\n",
       "    }\n",
       "\n",
       "    .dataframe thead tr:last-of-type th {\n",
       "        text-align: right;\n",
       "    }\n",
       "</style>\n",
       "<table border=\"1\" class=\"dataframe\">\n",
       "  <thead>\n",
       "    <tr>\n",
       "      <th></th>\n",
       "      <th>model</th>\n",
       "      <th>Nemotron-cc</th>\n",
       "      <th colspan=\"2\" halign=\"left\">meta-llama/Meta-Llama-3.1-70B-Instruct-Turbo</th>\n",
       "      <th colspan=\"2\" halign=\"left\">meta-llama/Meta-Llama-3.1-8B-Instruct-Turbo</th>\n",
       "    </tr>\n",
       "    <tr>\n",
       "      <th></th>\n",
       "      <th>scorer</th>\n",
       "      <th>Nemotron-cc</th>\n",
       "      <th>ScorerSmolFWEDU</th>\n",
       "      <th>ScorerSmolLM2</th>\n",
       "      <th>ScorerSmolFWEDU</th>\n",
       "      <th>ScorerSmolLM2</th>\n",
       "    </tr>\n",
       "    <tr>\n",
       "      <th>model</th>\n",
       "      <th>scorer</th>\n",
       "      <th></th>\n",
       "      <th></th>\n",
       "      <th></th>\n",
       "      <th></th>\n",
       "      <th></th>\n",
       "    </tr>\n",
       "  </thead>\n",
       "  <tbody>\n",
       "    <tr>\n",
       "      <th>Nemotron-cc</th>\n",
       "      <th>Nemotron-cc</th>\n",
       "      <td>1.000000</td>\n",
       "      <td>0.552931</td>\n",
       "      <td>0.175627</td>\n",
       "      <td>0.514891</td>\n",
       "      <td>0.205227</td>\n",
       "    </tr>\n",
       "    <tr>\n",
       "      <th rowspan=\"2\" valign=\"top\">meta-llama/Meta-Llama-3.1-70B-Instruct-Turbo</th>\n",
       "      <th>ScorerSmolFWEDU</th>\n",
       "      <td>0.552931</td>\n",
       "      <td>1.000000</td>\n",
       "      <td>0.258582</td>\n",
       "      <td>0.693139</td>\n",
       "      <td>0.303695</td>\n",
       "    </tr>\n",
       "    <tr>\n",
       "      <th>ScorerSmolLM2</th>\n",
       "      <td>0.175627</td>\n",
       "      <td>0.258582</td>\n",
       "      <td>1.000000</td>\n",
       "      <td>0.209630</td>\n",
       "      <td>0.392429</td>\n",
       "    </tr>\n",
       "    <tr>\n",
       "      <th rowspan=\"2\" valign=\"top\">meta-llama/Meta-Llama-3.1-8B-Instruct-Turbo</th>\n",
       "      <th>ScorerSmolFWEDU</th>\n",
       "      <td>0.514891</td>\n",
       "      <td>0.693139</td>\n",
       "      <td>0.209630</td>\n",
       "      <td>1.000000</td>\n",
       "      <td>0.282376</td>\n",
       "    </tr>\n",
       "    <tr>\n",
       "      <th>ScorerSmolLM2</th>\n",
       "      <td>0.205227</td>\n",
       "      <td>0.303695</td>\n",
       "      <td>0.392429</td>\n",
       "      <td>0.282376</td>\n",
       "      <td>1.000000</td>\n",
       "    </tr>\n",
       "  </tbody>\n",
       "</table>\n",
       "</div>"
      ],
      "text/plain": [
       "model                                                        Nemotron-cc  \\\n",
       "scorer                                                       Nemotron-cc   \n",
       "model                                        scorer                        \n",
       "Nemotron-cc                                  Nemotron-cc        1.000000   \n",
       "meta-llama/Meta-Llama-3.1-70B-Instruct-Turbo ScorerSmolFWEDU    0.552931   \n",
       "                                             ScorerSmolLM2      0.175627   \n",
       "meta-llama/Meta-Llama-3.1-8B-Instruct-Turbo  ScorerSmolFWEDU    0.514891   \n",
       "                                             ScorerSmolLM2      0.205227   \n",
       "\n",
       "model                                                        meta-llama/Meta-Llama-3.1-70B-Instruct-Turbo  \\\n",
       "scorer                                                                                    ScorerSmolFWEDU   \n",
       "model                                        scorer                                                         \n",
       "Nemotron-cc                                  Nemotron-cc                                         0.552931   \n",
       "meta-llama/Meta-Llama-3.1-70B-Instruct-Turbo ScorerSmolFWEDU                                     1.000000   \n",
       "                                             ScorerSmolLM2                                       0.258582   \n",
       "meta-llama/Meta-Llama-3.1-8B-Instruct-Turbo  ScorerSmolFWEDU                                     0.693139   \n",
       "                                             ScorerSmolLM2                                       0.303695   \n",
       "\n",
       "model                                                                       \\\n",
       "scorer                                                       ScorerSmolLM2   \n",
       "model                                        scorer                          \n",
       "Nemotron-cc                                  Nemotron-cc          0.175627   \n",
       "meta-llama/Meta-Llama-3.1-70B-Instruct-Turbo ScorerSmolFWEDU      0.258582   \n",
       "                                             ScorerSmolLM2        1.000000   \n",
       "meta-llama/Meta-Llama-3.1-8B-Instruct-Turbo  ScorerSmolFWEDU      0.209630   \n",
       "                                             ScorerSmolLM2        0.392429   \n",
       "\n",
       "model                                                        meta-llama/Meta-Llama-3.1-8B-Instruct-Turbo  \\\n",
       "scorer                                                                                   ScorerSmolFWEDU   \n",
       "model                                        scorer                                                        \n",
       "Nemotron-cc                                  Nemotron-cc                                        0.514891   \n",
       "meta-llama/Meta-Llama-3.1-70B-Instruct-Turbo ScorerSmolFWEDU                                    0.693139   \n",
       "                                             ScorerSmolLM2                                      0.209630   \n",
       "meta-llama/Meta-Llama-3.1-8B-Instruct-Turbo  ScorerSmolFWEDU                                    1.000000   \n",
       "                                             ScorerSmolLM2                                      0.282376   \n",
       "\n",
       "model                                                                       \n",
       "scorer                                                       ScorerSmolLM2  \n",
       "model                                        scorer                         \n",
       "Nemotron-cc                                  Nemotron-cc          0.205227  \n",
       "meta-llama/Meta-Llama-3.1-70B-Instruct-Turbo ScorerSmolFWEDU      0.303695  \n",
       "                                             ScorerSmolLM2        0.392429  \n",
       "meta-llama/Meta-Llama-3.1-8B-Instruct-Turbo  ScorerSmolFWEDU      0.282376  \n",
       "                                             ScorerSmolLM2        1.000000  "
      ]
     },
     "execution_count": 26,
     "metadata": {},
     "output_type": "execute_result"
    }
   ],
   "source": [
    "# check correlation of different methods\n",
    "df_all_scores.pivot_table(index=\"text\", columns=['model', 'scorer'], values='score').corr()"
   ]
  },
  {
   "cell_type": "code",
   "execution_count": 27,
   "id": "43b6c648-805e-4968-8cd0-4fbff2b8a034",
   "metadata": {},
   "outputs": [
    {
     "data": {
      "text/html": [
       "<div>\n",
       "<style scoped>\n",
       "    .dataframe tbody tr th:only-of-type {\n",
       "        vertical-align: middle;\n",
       "    }\n",
       "\n",
       "    .dataframe tbody tr th {\n",
       "        vertical-align: top;\n",
       "    }\n",
       "\n",
       "    .dataframe thead th {\n",
       "        text-align: right;\n",
       "    }\n",
       "</style>\n",
       "<table border=\"1\" class=\"dataframe\">\n",
       "  <thead>\n",
       "    <tr style=\"text-align: right;\">\n",
       "      <th></th>\n",
       "      <th></th>\n",
       "      <th>score</th>\n",
       "    </tr>\n",
       "    <tr>\n",
       "      <th>scorer</th>\n",
       "      <th>model</th>\n",
       "      <th></th>\n",
       "    </tr>\n",
       "  </thead>\n",
       "  <tbody>\n",
       "    <tr>\n",
       "      <th>Nemotron-cc</th>\n",
       "      <th>Nemotron-cc</th>\n",
       "      <td>3.000000</td>\n",
       "    </tr>\n",
       "    <tr>\n",
       "      <th rowspan=\"2\" valign=\"top\">ScorerSmolFWEDU</th>\n",
       "      <th>meta-llama/Meta-Llama-3.1-70B-Instruct-Turbo</th>\n",
       "      <td>1.050000</td>\n",
       "    </tr>\n",
       "    <tr>\n",
       "      <th>meta-llama/Meta-Llama-3.1-8B-Instruct-Turbo</th>\n",
       "      <td>1.346232</td>\n",
       "    </tr>\n",
       "    <tr>\n",
       "      <th rowspan=\"2\" valign=\"top\">ScorerSmolLM2</th>\n",
       "      <th>meta-llama/Meta-Llama-3.1-70B-Instruct-Turbo</th>\n",
       "      <td>0.126000</td>\n",
       "    </tr>\n",
       "    <tr>\n",
       "      <th>meta-llama/Meta-Llama-3.1-8B-Instruct-Turbo</th>\n",
       "      <td>0.940000</td>\n",
       "    </tr>\n",
       "  </tbody>\n",
       "</table>\n",
       "</div>"
      ],
      "text/plain": [
       "                                                                 score\n",
       "scorer          model                                                 \n",
       "Nemotron-cc     Nemotron-cc                                   3.000000\n",
       "ScorerSmolFWEDU meta-llama/Meta-Llama-3.1-70B-Instruct-Turbo  1.050000\n",
       "                meta-llama/Meta-Llama-3.1-8B-Instruct-Turbo   1.346232\n",
       "ScorerSmolLM2   meta-llama/Meta-Llama-3.1-70B-Instruct-Turbo  0.126000\n",
       "                meta-llama/Meta-Llama-3.1-8B-Instruct-Turbo   0.940000"
      ]
     },
     "execution_count": 27,
     "metadata": {},
     "output_type": "execute_result"
    }
   ],
   "source": [
    "# average scores of different methods, Nemotron-cc is much higher\n",
    "df_all_scores.loc[:, [\"model\", \"score\", \"scorer\"]].groupby([\"scorer\", \"model\"]).mean()"
   ]
  },
  {
   "cell_type": "code",
   "execution_count": null,
   "id": "f0bf3eaf-176b-4440-b895-40f9380ec6bc",
   "metadata": {},
   "outputs": [],
   "source": []
  },
  {
   "cell_type": "code",
   "execution_count": 28,
   "id": "58c6d787-71b9-4cf5-a47a-a255831717ed",
   "metadata": {},
   "outputs": [
    {
     "data": {
      "text/plain": [
       "Text(0.5, 0.98, 'Confusion matrix between different annotators')"
      ]
     },
     "execution_count": 28,
     "metadata": {},
     "output_type": "execute_result"
    },
    {
     "data": {
      "image/png": "[encoded data removed]",
      "text/plain": [
       "<Figure size 1200x400 with 6 Axes>"
      ]
     },
     "metadata": {},
     "output_type": "display_data"
    }
   ],
   "source": [
    "# Check confusion matrix between different annotators\n",
    "fig, axes = plt.subplots(1, 3, figsize=(12, 4))\n",
    "#ys = {\n",
    "#    model: df_all_scores.loc[df_all_scores['model'] == model, \"score\"]\n",
    "#    for model in [\"Nemotron-cc\"] + models\n",
    "#}\n",
    "\n",
    "ys = {\n",
    "    \"Nemotron-cc\": df_all_scores.loc[df_all_scores['model'] == \"Nemotron-cc\", \"score\"],\n",
    "    \"FWEdu + L3-70B\": df_all_scores.loc[(df_all_scores['scorer'] == \"ScorerSmolFWEDU\") & (df_all_scores['model'] == \"meta-llama/Meta-Llama-3.1-70B-Instruct-Turbo\"), \"score\"],\n",
    "    \"SmolLM2 + L3-70B\": df_all_scores.loc[(df_all_scores['scorer'] == \"ScorerSmolLM2\") & (df_all_scores['model'] == \"meta-llama/Meta-Llama-3.1-70B-Instruct-Turbo\"), \"score\"],\n",
    "}\n",
    "model_ys = list(ys.keys())\n",
    "\n",
    "ax = axes[0]\n",
    "model_x = model_ys[0]\n",
    "model_y = model_ys[1]\n",
    "ax = sns.heatmap(sklearn.metrics.confusion_matrix(ys[model_x], ys[model_y]).T, annot=True, ax=ax)\n",
    "ax.set_xlabel(model_x)\n",
    "ax.set_ylabel(model_y)\n",
    "\n",
    "ax = axes[1]\n",
    "model_x = model_ys[1]\n",
    "model_y = model_ys[2]\n",
    "ax = sns.heatmap(sklearn.metrics.confusion_matrix(ys[model_x], ys[model_y]).T, annot=True, ax=ax)\n",
    "ax.set_xlabel(model_x)\n",
    "ax.set_ylabel(model_y)\n",
    "\n",
    "ax = axes[2]\n",
    "model_x = model_ys[0]\n",
    "model_y = model_ys[2]\n",
    "ax = sns.heatmap(sklearn.metrics.confusion_matrix(ys[model_x], ys[model_y]).T, annot=True, ax=ax)\n",
    "ax.set_xlabel(model_x)\n",
    "ax.set_ylabel(model_y)\n",
    "fig.suptitle(\"Confusion matrix between different annotators\")"
   ]
  }
 ],
 "metadata": {
  "kernelspec": {
   "display_name": "Python 3 (ipykernel)",
   "language": "python",
   "name": "python3"
  },
  "language_info": {
   "codemirror_mode": {
    "name": "ipython",
    "version": 3
   },
   "file_extension": ".py",
   "mimetype": "text/x-python",
   "name": "python",
   "nbconvert_exporter": "python",
   "pygments_lexer": "ipython3",
   "version": "3.12.9"
  }
 },
 "nbformat": 4,
 "nbformat_minor": 5
}
