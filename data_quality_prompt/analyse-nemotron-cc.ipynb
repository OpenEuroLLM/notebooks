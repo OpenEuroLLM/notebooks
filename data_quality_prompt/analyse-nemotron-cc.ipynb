{
 "cells": [
  {
   "cell_type": "code",
   "execution_count": 1,
   "id": "c8956a49-d50b-41e3-b2ef-263c2a5163b4",
   "metadata": {},
   "outputs": [
    {
     "name": "stderr",
     "output_type": "stream",
     "text": [
      "None of PyTorch, TensorFlow >= 2.0, or Flax have been found. Models won't be available and only tokenizers, configuration and file/data utilities can be used.\n"
     ]
    }
   ],
   "source": [
    "from transformers import AutoTokenizer\n",
    "import pandas as pd\n",
    "import seaborn as sns\n",
    "from ipywidgets import interact, interactive, fixed, interact_manual\n",
    "import ipywidgets as widgets\n",
    "import numpy as np"
   ]
  },
  {
   "cell_type": "code",
   "execution_count": null,
   "id": "6b389c1b-1606-430b-9de1-80693ee4a986",
   "metadata": {},
   "outputs": [],
   "source": []
  },
  {
   "cell_type": "code",
   "execution_count": 2,
   "id": "9188dc4c-552b-4c54-9f19-274a06ac2dff",
   "metadata": {},
   "outputs": [
    {
     "name": "stdout",
     "output_type": "stream",
     "text": [
      "fatal: destination path 'tiny-nemotron-cc-sample' already exists and is not an empty directory.\n"
     ]
    }
   ],
   "source": [
    "!git clone https://github.com/spyysalo/tiny-nemotron-cc-sample/"
   ]
  },
  {
   "cell_type": "code",
   "execution_count": 3,
   "id": "6fc90d00-2dd0-436f-9c65-bfb1b2f61a92",
   "metadata": {},
   "outputs": [
    {
     "name": "stdout",
     "output_type": "stream",
     "text": [
      "2.3M\ttiny-nemotron-cc-sample/data/high-actual.jsonl\n",
      "700K\ttiny-nemotron-cc-sample/data/high-distill.jsonl\n",
      "2.0M\ttiny-nemotron-cc-sample/data/high-diverse_qa_pairs.jsonl\n",
      "1.3M\ttiny-nemotron-cc-sample/data/high-extract_knowledge.jsonl\n",
      "864K\ttiny-nemotron-cc-sample/data/high-knowledge_list.jsonl\n",
      "1.5M\ttiny-nemotron-cc-sample/data/high-wrap_medium.jsonl\n",
      "1.6M\ttiny-nemotron-cc-sample/data/low-actual.jsonl\n",
      "1.4M\ttiny-nemotron-cc-sample/data/low-wrap_medium.jsonl\n",
      "7.5M\ttiny-nemotron-cc-sample/data/medium-actual.jsonl\n",
      "1.6M\ttiny-nemotron-cc-sample/data/medium-high-actual.jsonl\n",
      "3.3M\ttiny-nemotron-cc-sample/data/medium-low-actual.jsonl\n"
     ]
    }
   ],
   "source": [
    "!du -h tiny-nemotron-cc-sample/data/*"
   ]
  },
  {
   "cell_type": "code",
   "execution_count": 4,
   "id": "5d9ef53b-d744-4007-9a99-ffd3420d2a9d",
   "metadata": {},
   "outputs": [
    {
     "data": {
      "text/html": [
       "<div>\n",
       "<style scoped>\n",
       "    .dataframe tbody tr th:only-of-type {\n",
       "        vertical-align: middle;\n",
       "    }\n",
       "\n",
       "    .dataframe tbody tr th {\n",
       "        vertical-align: top;\n",
       "    }\n",
       "\n",
       "    .dataframe thead th {\n",
       "        text-align: right;\n",
       "    }\n",
       "</style>\n",
       "<table border=\"1\" class=\"dataframe\">\n",
       "  <thead>\n",
       "    <tr style=\"text-align: right;\">\n",
       "      <th></th>\n",
       "      <th>text</th>\n",
       "      <th>language</th>\n",
       "      <th>warc_record_id</th>\n",
       "      <th>url</th>\n",
       "      <th>score</th>\n",
       "    </tr>\n",
       "  </thead>\n",
       "  <tbody>\n",
       "    <tr>\n",
       "      <th>0</th>\n",
       "      <td>In the autumn, falling leaves and dried-out we...</td>\n",
       "      <td>eng</td>\n",
       "      <td>ae74c0dc-785d-4c76-82e8-61ab46313f15</td>\n",
       "      <td>http://www.wcax.com/story/15369365/is-your-dog...</td>\n",
       "      <td>5</td>\n",
       "    </tr>\n",
       "    <tr>\n",
       "      <th>1</th>\n",
       "      <td>One of the 12 constellations introduced at the...</td>\n",
       "      <td>eng</td>\n",
       "      <td>f41502ad-88f3-4ba9-96ea-04d301175c19</td>\n",
       "      <td>http://www.ianridpath.com/startales/grus.htm</td>\n",
       "      <td>5</td>\n",
       "    </tr>\n",
       "    <tr>\n",
       "      <th>2</th>\n",
       "      <td>pictures</td>\n",
       "      <td>eng</td>\n",
       "      <td>0f3462fe-8fa1-47bf-8396-acb92e997f95</td>\n",
       "      <td>http://www.itshareware.com/catlist-code_157-st...</td>\n",
       "      <td>5</td>\n",
       "    </tr>\n",
       "    <tr>\n",
       "      <th>3</th>\n",
       "      <td>Avoid Frying When Flying: Eliminate Ionizing R...</td>\n",
       "      <td>eng</td>\n",
       "      <td>f42b4f0e-eb41-4c0a-b7d3-c615780be0f0</td>\n",
       "      <td>http://www.naturalnews.com/030425_radiation_fl...</td>\n",
       "      <td>5</td>\n",
       "    </tr>\n",
       "    <tr>\n",
       "      <th>4</th>\n",
       "      <td>Posts Tagged pacho galan\\n\\nNothing sexier in ...</td>\n",
       "      <td>eng</td>\n",
       "      <td>dcf4b10d-db43-4e6b-b7ed-d0a037f7a760</td>\n",
       "      <td>http://generationbass.com/tag/pacho-galan/</td>\n",
       "      <td>5</td>\n",
       "    </tr>\n",
       "  </tbody>\n",
       "</table>\n",
       "</div>"
      ],
      "text/plain": [
       "                                                text language  \\\n",
       "0  In the autumn, falling leaves and dried-out we...      eng   \n",
       "1  One of the 12 constellations introduced at the...      eng   \n",
       "2                                           pictures      eng   \n",
       "3  Avoid Frying When Flying: Eliminate Ionizing R...      eng   \n",
       "4  Posts Tagged pacho galan\\n\\nNothing sexier in ...      eng   \n",
       "\n",
       "                         warc_record_id  \\\n",
       "0  ae74c0dc-785d-4c76-82e8-61ab46313f15   \n",
       "1  f41502ad-88f3-4ba9-96ea-04d301175c19   \n",
       "2  0f3462fe-8fa1-47bf-8396-acb92e997f95   \n",
       "3  f42b4f0e-eb41-4c0a-b7d3-c615780be0f0   \n",
       "4  dcf4b10d-db43-4e6b-b7ed-d0a037f7a760   \n",
       "\n",
       "                                                 url  score  \n",
       "0  http://www.wcax.com/story/15369365/is-your-dog...      5  \n",
       "1       http://www.ianridpath.com/startales/grus.htm      5  \n",
       "2  http://www.itshareware.com/catlist-code_157-st...      5  \n",
       "3  http://www.naturalnews.com/030425_radiation_fl...      5  \n",
       "4         http://generationbass.com/tag/pacho-galan/      5  "
      ]
     },
     "execution_count": 4,
     "metadata": {},
     "output_type": "execute_result"
    }
   ],
   "source": [
    "score_files = {\n",
    "    5: \"tiny-nemotron-cc-sample/data/high-actual.jsonl\",\n",
    "    4: \"tiny-nemotron-cc-sample/data/medium-high-actual.jsonl\",\n",
    "    3: \"tiny-nemotron-cc-sample/data/medium-actual.jsonl\",    \n",
    "    2: \"tiny-nemotron-cc-sample/data/medium-low-actual.jsonl\",\n",
    "    1: \"tiny-nemotron-cc-sample/data/low-actual.jsonl\",\n",
    "}\n",
    "dfs = []\n",
    "\n",
    "for score, filename in score_files.items():\n",
    "    df = pd.read_json(filename, lines=True)\n",
    "    df[\"score\"] = score\n",
    "    dfs.append(df)\n",
    "df = pd.concat(dfs, ignore_index=True)\n",
    "df.head()"
   ]
  },
  {
   "cell_type": "code",
   "execution_count": 5,
   "id": "a285726f-98c0-4513-8c22-3722afd95259",
   "metadata": {},
   "outputs": [
    {
     "data": {
      "image/png": "[encoded data removed]",
      "text/plain": [
       "<Figure size 640x480 with 1 Axes>"
      ]
     },
     "metadata": {},
     "output_type": "display_data"
    }
   ],
   "source": [
    "ax = df.score.value_counts().sort_index().plot(kind=\"bar\")\n",
    "ax.set_title(\"Score distribution\")\n",
    "ax.grid()"
   ]
  },
  {
   "cell_type": "code",
   "execution_count": null,
   "id": "ebb71f73-ddf6-491f-853b-e80f8162227e",
   "metadata": {},
   "outputs": [],
   "source": []
  },
  {
   "cell_type": "code",
   "execution_count": 6,
   "id": "91d1b6f2-ba43-4274-9abd-d58ae17f2fac",
   "metadata": {},
   "outputs": [
    {
     "data": {
      "application/vnd.jupyter.widget-view+json": {
       "model_id": "02d91d0ac9c341ae8bb13e6f691d4ae9",
       "version_major": 2,
       "version_minor": 0
      },
      "text/plain": [
       "interactive(children=(IntText(value=0, description='i'), Output()), _dom_classes=('widget-interact',))"
      ]
     },
     "metadata": {},
     "output_type": "display_data"
    },
    {
     "data": {
      "text/plain": [
       "<function __main__.show_given_record(i: int)>"
      ]
     },
     "execution_count": 6,
     "metadata": {},
     "output_type": "execute_result"
    }
   ],
   "source": [
    "def show_given_record(i: int):\n",
    "    print(f\"-----{i}------\")\n",
    "    print(f'{df.loc[i, \"text\"]}')\n",
    "    print(f'{df.loc[i, \"url\"]}')\n",
    "    print(f'Score: {df.loc[i, \"score\"]}')\n",
    "\n",
    "interact(show_given_record)"
   ]
  },
  {
   "cell_type": "code",
   "execution_count": 7,
   "id": "be4e9035-0f75-478d-8ec4-530e2b760057",
   "metadata": {},
   "outputs": [
    {
     "name": "stdout",
     "output_type": "stream",
     "text": [
      "                                                text  token_count\n",
      "0  In the autumn, falling leaves and dried-out we...          257\n",
      "1  One of the 12 constellations introduced at the...          410\n",
      "2                                           pictures            1\n",
      "3  Avoid Frying When Flying: Eliminate Ionizing R...          707\n",
      "4  Posts Tagged pacho galan\\n\\nNothing sexier in ...           93\n",
      "Total tokens: 3450034\n"
     ]
    }
   ],
   "source": [
    "# count the number of tokens\n",
    "tokenizer = AutoTokenizer.from_pretrained(\"meta-llama/Meta-Llama-3-8B-Instruct\")\n",
    "\n",
    "# Function to count tokens\n",
    "def count_tokens(text):\n",
    "    tokens = tokenizer.encode(text, add_special_tokens=False)\n",
    "    return len(tokens)\n",
    "\n",
    "# Apply the function to create a new column with token counts\n",
    "df['token_count'] = df['text'].apply(count_tokens)\n",
    "\n",
    "# View the first few rows with token counts\n",
    "print(df[['text', 'token_count']].head())\n",
    "\n",
    "# Get total tokens across all rows\n",
    "total_tokens = df['token_count'].sum()\n",
    "print(f\"Total tokens: {total_tokens}\")"
   ]
  },
  {
   "cell_type": "code",
   "execution_count": 8,
   "id": "6b6d1597-b20c-4e4a-9802-2acd17a309a3",
   "metadata": {},
   "outputs": [
    {
     "name": "stdout",
     "output_type": "stream",
     "text": [
      "Total tokens of documents with <2K tokens: 2096942\n"
     ]
    }
   ],
   "source": [
    "total_tokens = df.loc[df.token_count < 2000, 'token_count'].sum()\n",
    "print(f\"Total tokens of documents with <2K tokens: {total_tokens}\")"
   ]
  },
  {
   "cell_type": "code",
   "execution_count": 9,
   "id": "d6c89e52-8e30-409d-bb18-5a5d35968030",
   "metadata": {},
   "outputs": [
    {
     "data": {
      "image/png": "[encoded data removed]",
      "text/plain": [
       "<Figure size 640x480 with 1 Axes>"
      ]
     },
     "metadata": {},
     "output_type": "display_data"
    }
   ],
   "source": [
    "ax = sns.histplot(df[\"token_count\"], log_scale=True)\n",
    "ax.set_title(\"Distribution of number of tokens per document\")\n",
    "ax.set_xlabel(\"Number of tokens\")\n",
    "ax.grid()"
   ]
  },
  {
   "cell_type": "code",
   "execution_count": 10,
   "id": "82c5a898-fbca-400a-912d-d01580573667",
   "metadata": {},
   "outputs": [
    {
     "name": "stdout",
     "output_type": "stream",
     "text": [
      "Expected price: 0.37744955999999996\n"
     ]
    }
   ],
   "source": [
    "price_per_1M_token = 0.18  # 8B-turbo\n",
    "#price_per_1M_token = 0.88  # 70B-turbo\n",
    "print(f\"Expected price: {total_tokens * price_per_1M_token * 1e-6}\")"
   ]
  },
  {
   "cell_type": "markdown",
   "id": "2e55f7c1-f254-430f-b9d1-1b408f6666a0",
   "metadata": {},
   "source": [
    "# Test document quality judge"
   ]
  },
  {
   "cell_type": "code",
   "execution_count": 11,
   "id": "b0a20fc5-ecb8-4d00-a8de-c8755ecbb283",
   "metadata": {},
   "outputs": [],
   "source": [
    "from langchain_core.prompts import ChatPromptTemplate\n",
    "from langchain_together import ChatTogether\n",
    "from langchain_community.cache import SQLiteCache\n",
    "from langchain_core.globals import set_llm_cache\n",
    "\n",
    "set_llm_cache(SQLiteCache(database_path=\".langchain.db\"))\n",
    "\n",
    "model = \"meta-llama/Meta-Llama-3.1-8B-Instruct-Turbo\"\n",
    "chat_model = ChatTogether(model=model)"
   ]
  },
  {
   "cell_type": "code",
   "execution_count": 12,
   "id": "6fedcba3-9c2b-4713-b645-ef894e03aa59",
   "metadata": {},
   "outputs": [
    {
     "name": "stdout",
     "output_type": "stream",
     "text": [
      "Evaluate the following text extract for its potential usefulness for studying mathematics up to high school and early undergraduate levels. Use the following 5-point scoring system described below. Points are accumulated based on the satisfaction of each criterion:\n",
      "\n",
      "- Add 1 point if the extract contains some mathematical content, even if it's not very useful for studying, or if it contains non-academic content such as advertisements and generated pages for converting weight and currencies.\n",
      "- Add another point if the extract touches on mathematical topics, even if it's poorly written if it's too complex such as an academic paper that is too advanced.\n",
      "- Award a third point if the extract demonstrates problem solving or logical reasoning in a mathematical context, even if it lacks step-by-step explanations.\n",
      "- Grant a fourth point if the extract is at an appropriate level (up to high school and early undergraduate levels) and contains clear mathematical deductions and step-by-step solutions to mathematical problems. It should be similar to a chapter from a textbook or a tutorial.\n",
      "- Give a fifth point if the extract is outstanding in its educational value for teaching and studying mathematics in middle school and high school. It should include very detailed and easy to follow explanations.\n",
      "\n",
      "Question-answer formats (e.g., from educational websites or forums) are acceptable if they meet the criteria.\n",
      "\n",
      "The text extract:\n",
      "{prompt}\n",
      "\n",
      "After examining the extract:\n",
      "- Briefly justify your total score, up to 100 words.\n",
      "- Conclude with the score using the format: Final score: <total points>.\n",
      "\n"
     ]
    }
   ],
   "source": [
    "# Prompt from SmolLM2 https://arxiv.org/pdf/2502.02737 Appendix C.3\n",
    "system_template = \"You are a smart assistant helping to measure the quality of text.\"\n",
    "prompt_analysis = '''\\\n",
    "Evaluate the following text extract for its potential usefulness for studying mathematics up to high school and early undergraduate levels. Use the following 5-point scoring system described below. Points are accumulated based on the satisfaction of each criterion:\n",
    "\n",
    "- Add 1 point if the extract contains some mathematical content, even if it's not very useful for studying, or if it contains non-academic content such as advertisements and generated pages for converting weight and currencies.\n",
    "- Add another point if the extract touches on mathematical topics, even if it's poorly written if it's too complex such as an academic paper that is too advanced.\n",
    "- Award a third point if the extract demonstrates problem solving or logical reasoning in a mathematical context, even if it lacks step-by-step explanations.\n",
    "- Grant a fourth point if the extract is at an appropriate level (up to high school and early undergraduate levels) and contains clear mathematical deductions and step-by-step solutions to mathematical problems. It should be similar to a chapter from a textbook or a tutorial.\n",
    "- Give a fifth point if the extract is outstanding in its educational value for teaching and studying mathematics in middle school and high school. It should include very detailed and easy to follow explanations.\n",
    "\n",
    "Question-answer formats (e.g., from educational websites or forums) are acceptable if they meet the criteria.\n",
    "\n",
    "The text extract:\n",
    "{prompt}\n",
    "\n",
    "After examining the extract:\n",
    "- Briefly justify your total score, up to 100 words.\n",
    "- Conclude with the score using the format: Final score: <total points>.\n",
    "'''\n",
    "print(prompt_analysis)"
   ]
  },
  {
   "cell_type": "code",
   "execution_count": 13,
   "id": "f851c759-9593-40cc-bd0e-4f4ac409b209",
   "metadata": {},
   "outputs": [],
   "source": [
    "prompt_template = ChatPromptTemplate.from_messages([\n",
    "    (\"system\", system_template), \n",
    "    (\"user\", prompt_analysis)]\n",
    ")\n",
    "#print(prompt.messages[1].content)"
   ]
  },
  {
   "cell_type": "code",
   "execution_count": 14,
   "id": "ee915738-eeec-4d66-a962-6a1a48f791eb",
   "metadata": {},
   "outputs": [],
   "source": [
    "#prompt_example = prompt_template.invoke({\"prompt\": \"The European Union decided to fund a large project to train an LLM.\"})\n",
    "#print(prompt_example.messages[1].content)"
   ]
  },
  {
   "cell_type": "code",
   "execution_count": 15,
   "id": "0509d031-c611-409e-897e-7d05a614b941",
   "metadata": {},
   "outputs": [
    {
     "name": "stdout",
     "output_type": "stream",
     "text": [
      "After examining the text extract, I found that it contains some non-academic content (1 point) as it appears to be a snippet of a news article or a discussion about a project. However, it does not touch on any mathematical topics (0 points), demonstrate problem solving or logical reasoning (0 points), contain clear mathematical deductions and step-by-step solutions (0 points), or provide detailed and easy-to-follow explanations (0 points).\n",
      "\n",
      "Justification: The text extract is not related to mathematics and does not provide any educational value for studying mathematics up to high school and early undergraduate levels.\n",
      "\n",
      "Final score: 1.\n",
      "\n",
      "---\n",
      "Text:The European Union decided to fund a large project to train an LLM.\n"
     ]
    }
   ],
   "source": [
    "text = \"The European Union decided to fund a large project to train an LLM.\"\n",
    "prompt_templated = prompt_template.invoke({\"prompt\": text})\n",
    "res = chat_model.invoke(prompt_templated)\n",
    "completion = res.content\n",
    "print(completion)\n",
    "print(f'\\n---\\nText:{text}')"
   ]
  },
  {
   "cell_type": "code",
   "execution_count": 16,
   "id": "c0cf47fd-7a58-4368-8a0d-2f01b68b5afb",
   "metadata": {},
   "outputs": [
    {
     "name": "stdout",
     "output_type": "stream",
     "text": [
      "After examining the text extract, I found that it contains some mathematical content, specifically the mention of the brightest star's magnitude (second magnitude) and the use of astronomical coordinates (e.g., Piscis Austrinus). However, the extract does not touch on mathematical topics relevant to high school and early undergraduate levels. It also does not demonstrate problem-solving or logical reasoning in a mathematical context. The extract is written in a historical and descriptive style, focusing on the constellation Grus and its associations. It does not contain clear mathematical deductions or step-by-step solutions to mathematical problems.\n",
      "\n",
      "The extract is not at an appropriate level for studying mathematics up to high school and early undergraduate levels, and it lacks detailed explanations. However, it does provide some interesting historical and cultural information about the constellation Grus.\n",
      "\n",
      "Final score: 1.\n",
      "\n",
      "---\n",
      "Text:One of the 12 constellations introduced at the end of the 16th century by the\n",
      "Dutch navigators Pieter Dirkszoon Keyser and Frederick de Houtman after their\n",
      "pioneer mapping of the southern skies. Grus represents a long-necked wading\n",
      "bird, the crane.\n",
      "\n",
      "The constellation was first shown on a celestial globe by Petrus Plancius in\n",
      "1598 under the name Krane Grus, respectively Dutch and Latin words for crane,\n",
      "although on a later Plancius globe issued posthumously in 1625 it bore the\n",
      "alternative title of Phoenicopterus, the flamingo. As another identification,\n",
      "de Houtman called it Den Reygher, the heron, in his southern star catalogue of 1603. Johannes Bayer adopted the\n",
      "name Grus for the constellation in his Uranometria atlas of 1603, and the original identification as a crane won out.\n",
      "\n",
      "Grus cranes its neck in the Uranographia of Johann Bode (1801).\n",
      "\n",
      "Grus was formed from stars south of Piscis Austrinus, the Southern Fish. The\n",
      "constellation's brightest star, of second magnitude, is named Alnair, from an abbreviation of\n",
      "the Arabic meaning 'the bright one from the fish's tail', for the Arabs had extended the tail of Piscis Austrinus southwards into this\n",
      "region. There are no legends associated with Grus, but in Greek mythology the\n",
      "crane was sacred to Hermes.\n",
      "\n",
      "Chinese associations\n",
      "\n",
      "Being so far south, the stars of Grus barely featured in the Chinese\n",
      "constellation system. However, part of the Chinese constellation Baijiu lay in this area, representing a kind of celestial skip for waste. Baijiu consisted of four stars forming a tub shape. The present-day Gamma Gruis could\n",
      "have been one of them, and possibly Lambda Gruis was a member too. The rest of Baijiu lay to the north in Piscis Austrinus.\n"
     ]
    }
   ],
   "source": [
    "# Run the scorer on a given document\n",
    "i = 1\n",
    "prompt_templated = prompt_template.invoke({\"prompt\": df.loc[i, \"text\"]})\n",
    "res = chat_model.invoke(prompt_templated)\n",
    "completion = res.content\n",
    "print(completion)\n",
    "print(f'\\n---\\nText:{df.loc[i, \"text\"]}')"
   ]
  },
  {
   "cell_type": "code",
   "execution_count": null,
   "id": "7d1bccff-d1ba-4538-abf7-97e4e4c4d333",
   "metadata": {},
   "outputs": [],
   "source": []
  },
  {
   "cell_type": "code",
   "execution_count": null,
   "id": "437563a1-ab9a-418b-b10a-90a6826c3a5d",
   "metadata": {},
   "outputs": [],
   "source": []
  },
  {
   "cell_type": "code",
   "execution_count": 17,
   "id": "edb18315-9346-4d75-9bf9-863d5a9b76f5",
   "metadata": {},
   "outputs": [
    {
     "data": {
      "text/plain": [
       "1"
      ]
     },
     "execution_count": 17,
     "metadata": {},
     "output_type": "execute_result"
    }
   ],
   "source": [
    "import re\n",
    "def extract_score(completion: str):\n",
    "    # Look for \"Final score:\" followed by optional whitespace and an integer\n",
    "    match = re.search(r'Final score:\\s*(\\d+)', completion)    \n",
    "    if match:\n",
    "        return int(np.clip(int(match.group(1)), 0, 5))\n",
    "    else:\n",
    "        return None\n",
    "        \n",
    "def llm_score(text: str):\n",
    "    prompt_templated = prompt_template.invoke({\"prompt\": text})\n",
    "    res = chat_model.invoke(prompt_templated)\n",
    "    return extract_score(res.content)\n",
    "llm_score(text)"
   ]
  },
  {
   "cell_type": "markdown",
   "id": "14cd4379-58d3-4e4d-9447-404cf39c38cb",
   "metadata": {},
   "source": [
    "# Run document quality judge on corpus"
   ]
  },
  {
   "cell_type": "code",
   "execution_count": 18,
   "id": "e279d4f7-e6dd-4786-8fa7-a78c032af9e7",
   "metadata": {},
   "outputs": [
    {
     "data": {
      "text/html": [
       "<div>\n",
       "<style scoped>\n",
       "    .dataframe tbody tr th:only-of-type {\n",
       "        vertical-align: middle;\n",
       "    }\n",
       "\n",
       "    .dataframe tbody tr th {\n",
       "        vertical-align: top;\n",
       "    }\n",
       "\n",
       "    .dataframe thead th {\n",
       "        text-align: right;\n",
       "    }\n",
       "</style>\n",
       "<table border=\"1\" class=\"dataframe\">\n",
       "  <thead>\n",
       "    <tr style=\"text-align: right;\">\n",
       "      <th></th>\n",
       "      <th>text</th>\n",
       "      <th>language</th>\n",
       "      <th>warc_record_id</th>\n",
       "      <th>url</th>\n",
       "      <th>score</th>\n",
       "      <th>token_count</th>\n",
       "    </tr>\n",
       "  </thead>\n",
       "  <tbody>\n",
       "    <tr>\n",
       "      <th>0</th>\n",
       "      <td>In the autumn, falling leaves and dried-out we...</td>\n",
       "      <td>eng</td>\n",
       "      <td>ae74c0dc-785d-4c76-82e8-61ab46313f15</td>\n",
       "      <td>http://www.wcax.com/story/15369365/is-your-dog...</td>\n",
       "      <td>5</td>\n",
       "      <td>257</td>\n",
       "    </tr>\n",
       "    <tr>\n",
       "      <th>1</th>\n",
       "      <td>One of the 12 constellations introduced at the...</td>\n",
       "      <td>eng</td>\n",
       "      <td>f41502ad-88f3-4ba9-96ea-04d301175c19</td>\n",
       "      <td>http://www.ianridpath.com/startales/grus.htm</td>\n",
       "      <td>5</td>\n",
       "      <td>410</td>\n",
       "    </tr>\n",
       "    <tr>\n",
       "      <th>2</th>\n",
       "      <td>pictures</td>\n",
       "      <td>eng</td>\n",
       "      <td>0f3462fe-8fa1-47bf-8396-acb92e997f95</td>\n",
       "      <td>http://www.itshareware.com/catlist-code_157-st...</td>\n",
       "      <td>5</td>\n",
       "      <td>1</td>\n",
       "    </tr>\n",
       "    <tr>\n",
       "      <th>3</th>\n",
       "      <td>Avoid Frying When Flying: Eliminate Ionizing R...</td>\n",
       "      <td>eng</td>\n",
       "      <td>f42b4f0e-eb41-4c0a-b7d3-c615780be0f0</td>\n",
       "      <td>http://www.naturalnews.com/030425_radiation_fl...</td>\n",
       "      <td>5</td>\n",
       "      <td>707</td>\n",
       "    </tr>\n",
       "    <tr>\n",
       "      <th>4</th>\n",
       "      <td>Posts Tagged pacho galan\\n\\nNothing sexier in ...</td>\n",
       "      <td>eng</td>\n",
       "      <td>dcf4b10d-db43-4e6b-b7ed-d0a037f7a760</td>\n",
       "      <td>http://generationbass.com/tag/pacho-galan/</td>\n",
       "      <td>5</td>\n",
       "      <td>93</td>\n",
       "    </tr>\n",
       "    <tr>\n",
       "      <th>...</th>\n",
       "      <td>...</td>\n",
       "      <td>...</td>\n",
       "      <td>...</td>\n",
       "      <td>...</td>\n",
       "      <td>...</td>\n",
       "      <td>...</td>\n",
       "    </tr>\n",
       "    <tr>\n",
       "      <th>4705</th>\n",
       "      <td>Hotel Monteolivos\\n\\nAbout\\n\\nIdeally located ...</td>\n",
       "      <td>eng</td>\n",
       "      <td>fca819a1-1134-43b0-a03c-65389680267f</td>\n",
       "      <td>https://vymaps.com/HN/Hotel-Monteolivos/</td>\n",
       "      <td>1</td>\n",
       "      <td>134</td>\n",
       "    </tr>\n",
       "    <tr>\n",
       "      <th>4706</th>\n",
       "      <td>Holyhead Road Chirk\\n\\n£50,000\\n\\nGuide price\\...</td>\n",
       "      <td>eng</td>\n",
       "      <td>dc83575c-9be0-4d45-82c7-0501c120ba0e</td>\n",
       "      <td>https://www.denbighshirefreepress.co.uk/homes/...</td>\n",
       "      <td>1</td>\n",
       "      <td>1635</td>\n",
       "    </tr>\n",
       "    <tr>\n",
       "      <th>4707</th>\n",
       "      <td>scorpion punk crystal ring is the perfect acc...</td>\n",
       "      <td>eng</td>\n",
       "      <td>08605359-86d2-4df7-9257-fe669d940393</td>\n",
       "      <td>https://mavigadget.com/products/scorpion-punk-...</td>\n",
       "      <td>1</td>\n",
       "      <td>68</td>\n",
       "    </tr>\n",
       "    <tr>\n",
       "      <th>4708</th>\n",
       "      <td>One-Page website includes a modern one-page de...</td>\n",
       "      <td>eng</td>\n",
       "      <td>dec84788-e449-4d84-b17f-1dc5e6407db1</td>\n",
       "      <td>https://leadgen-digital.com.au/</td>\n",
       "      <td>1</td>\n",
       "      <td>540</td>\n",
       "    </tr>\n",
       "    <tr>\n",
       "      <th>4709</th>\n",
       "      <td>Intellectual Property\\n\\nThe content and mater...</td>\n",
       "      <td>eng</td>\n",
       "      <td>ba6bdcd7-4bcc-4903-b164-03c7da91caf2</td>\n",
       "      <td>https://essaywritingservicelegal.online/terms-...</td>\n",
       "      <td>1</td>\n",
       "      <td>480</td>\n",
       "    </tr>\n",
       "  </tbody>\n",
       "</table>\n",
       "<p>4710 rows × 6 columns</p>\n",
       "</div>"
      ],
      "text/plain": [
       "                                                   text language  \\\n",
       "0     In the autumn, falling leaves and dried-out we...      eng   \n",
       "1     One of the 12 constellations introduced at the...      eng   \n",
       "2                                              pictures      eng   \n",
       "3     Avoid Frying When Flying: Eliminate Ionizing R...      eng   \n",
       "4     Posts Tagged pacho galan\\n\\nNothing sexier in ...      eng   \n",
       "...                                                 ...      ...   \n",
       "4705  Hotel Monteolivos\\n\\nAbout\\n\\nIdeally located ...      eng   \n",
       "4706  Holyhead Road Chirk\\n\\n£50,000\\n\\nGuide price\\...      eng   \n",
       "4707   scorpion punk crystal ring is the perfect acc...      eng   \n",
       "4708  One-Page website includes a modern one-page de...      eng   \n",
       "4709  Intellectual Property\\n\\nThe content and mater...      eng   \n",
       "\n",
       "                            warc_record_id  \\\n",
       "0     ae74c0dc-785d-4c76-82e8-61ab46313f15   \n",
       "1     f41502ad-88f3-4ba9-96ea-04d301175c19   \n",
       "2     0f3462fe-8fa1-47bf-8396-acb92e997f95   \n",
       "3     f42b4f0e-eb41-4c0a-b7d3-c615780be0f0   \n",
       "4     dcf4b10d-db43-4e6b-b7ed-d0a037f7a760   \n",
       "...                                    ...   \n",
       "4705  fca819a1-1134-43b0-a03c-65389680267f   \n",
       "4706  dc83575c-9be0-4d45-82c7-0501c120ba0e   \n",
       "4707  08605359-86d2-4df7-9257-fe669d940393   \n",
       "4708  dec84788-e449-4d84-b17f-1dc5e6407db1   \n",
       "4709  ba6bdcd7-4bcc-4903-b164-03c7da91caf2   \n",
       "\n",
       "                                                    url  score  token_count  \n",
       "0     http://www.wcax.com/story/15369365/is-your-dog...      5          257  \n",
       "1          http://www.ianridpath.com/startales/grus.htm      5          410  \n",
       "2     http://www.itshareware.com/catlist-code_157-st...      5            1  \n",
       "3     http://www.naturalnews.com/030425_radiation_fl...      5          707  \n",
       "4            http://generationbass.com/tag/pacho-galan/      5           93  \n",
       "...                                                 ...    ...          ...  \n",
       "4705           https://vymaps.com/HN/Hotel-Monteolivos/      1          134  \n",
       "4706  https://www.denbighshirefreepress.co.uk/homes/...      1         1635  \n",
       "4707  https://mavigadget.com/products/scorpion-punk-...      1           68  \n",
       "4708                    https://leadgen-digital.com.au/      1          540  \n",
       "4709  https://essaywritingservicelegal.online/terms-...      1          480  \n",
       "\n",
       "[4710 rows x 6 columns]"
      ]
     },
     "execution_count": 18,
     "metadata": {},
     "output_type": "execute_result"
    }
   ],
   "source": [
    "df"
   ]
  },
  {
   "cell_type": "code",
   "execution_count": null,
   "id": "b7442bd7-038b-4c26-b434-9445b5898e21",
   "metadata": {},
   "outputs": [],
   "source": []
  },
  {
   "cell_type": "code",
   "execution_count": null,
   "id": "4bc63018-8e78-48a7-9e04-d76201e43399",
   "metadata": {},
   "outputs": [],
   "source": []
  },
  {
   "cell_type": "code",
   "execution_count": 19,
   "id": "91a5d8cd-7f1e-410c-93cc-d34c6cb337a8",
   "metadata": {},
   "outputs": [
    {
     "name": "stdout",
     "output_type": "stream",
     "text": [
      "Eval score 5 with 50 samples.\n",
      "Eval score 4 with 50 samples.\n",
      "Eval score 3 with 50 samples.\n",
      "Eval score 2 with 50 samples.\n",
      "Eval score 1 with 50 samples.\n"
     ]
    }
   ],
   "source": [
    "import random\n",
    "random.seed(0)\n",
    "\n",
    "\n",
    "random.seed(0)\n",
    "\n",
    "df_shuffle = df.sample(frac=1, replace=False, random_state=0).copy()\n",
    "\n",
    "n_draws = 50\n",
    "score = 5\n",
    "\n",
    "# For every score:\n",
    "# 1) generate subsample dataframe with score \n",
    "# 2) call LLM scorer to get completion\n",
    "# 3) parse values and add to dataframe\n",
    "df_scores = []\n",
    "for score in [5, 4, 3, 2, 1]: \n",
    "    df_score = df_shuffle[(df_shuffle.score == score) & (df_shuffle.token_count < 2000)]\n",
    "    df_score = df_score.head(n_draws)\n",
    "    print(f\"Eval score {score} with {len(df_score)} samples.\")\n",
    "    inputs = [\n",
    "        prompt_template.invoke({\"prompt\": text}) \n",
    "        for text in df_score.loc[:, \"text\"].values\n",
    "    ]\n",
    "    completions = chat_model.batch(inputs=inputs)\n",
    "    df_score[\"model\"] = model\n",
    "    df_score[\"llm-score\"] = [extract_score(x.content) for x in completions]\n",
    "    df_scores.append(df_score)"
   ]
  },
  {
   "cell_type": "code",
   "execution_count": 20,
   "id": "a61cfcff-7805-426c-9a99-9755d97464ac",
   "metadata": {},
   "outputs": [],
   "source": [
    "df_scores_all = pd.concat(df_scores, ignore_index=True)"
   ]
  },
  {
   "cell_type": "code",
   "execution_count": null,
   "id": "9c20f71b-a98d-4fee-8e71-06e5b15705da",
   "metadata": {},
   "outputs": [],
   "source": []
  },
  {
   "cell_type": "code",
   "execution_count": null,
   "id": "394e0a5a-b25b-4702-8baa-fc3ff1d63551",
   "metadata": {},
   "outputs": [],
   "source": []
  },
  {
   "cell_type": "code",
   "execution_count": 21,
   "id": "c5f1cc3e-da9d-4ea4-9b25-14d871de4d8a",
   "metadata": {},
   "outputs": [
    {
     "data": {
      "image/png": "[encoded data removed]",
      "text/plain": [
       "<Figure size 640x480 with 1 Axes>"
      ]
     },
     "metadata": {},
     "output_type": "display_data"
    }
   ],
   "source": [
    "ax = sns.stripplot(df_scores_all, x=\"score\", y=\"llm-score\")\n",
    "ax.set_xlabel(\"Nemotron-cc score\")\n",
    "ax.set_ylabel(f'SmolLM2 + {model.split(\"/\")[1]}')\n",
    "ax.set_aspect('equal')"
   ]
  },
  {
   "cell_type": "code",
   "execution_count": 22,
   "id": "cd714415-6d6a-4016-93f6-b74fb6f0a52e",
   "metadata": {},
   "outputs": [
    {
     "data": {
      "text/html": [
       "<div>\n",
       "<style scoped>\n",
       "    .dataframe tbody tr th:only-of-type {\n",
       "        vertical-align: middle;\n",
       "    }\n",
       "\n",
       "    .dataframe tbody tr th {\n",
       "        vertical-align: top;\n",
       "    }\n",
       "\n",
       "    .dataframe thead th {\n",
       "        text-align: right;\n",
       "    }\n",
       "</style>\n",
       "<table border=\"1\" class=\"dataframe\">\n",
       "  <thead>\n",
       "    <tr style=\"text-align: right;\">\n",
       "      <th></th>\n",
       "      <th>text</th>\n",
       "      <th>language</th>\n",
       "      <th>warc_record_id</th>\n",
       "      <th>url</th>\n",
       "      <th>score</th>\n",
       "      <th>token_count</th>\n",
       "      <th>model</th>\n",
       "      <th>llm-score</th>\n",
       "    </tr>\n",
       "  </thead>\n",
       "  <tbody>\n",
       "    <tr>\n",
       "      <th>93</th>\n",
       "      <td>Category Manfre23961\\n\\nFuture value annuity d...</td>\n",
       "      <td>eng</td>\n",
       "      <td>c51fa0e6-fc66-446a-8e3a-7e942413196d</td>\n",
       "      <td>https://digitaloptionsgkdb.web.app/manfre23961...</td>\n",
       "      <td>4</td>\n",
       "      <td>1415</td>\n",
       "      <td>meta-llama/Meta-Llama-3.1-8B-Instruct-Turbo</td>\n",
       "      <td>5</td>\n",
       "    </tr>\n",
       "    <tr>\n",
       "      <th>49</th>\n",
       "      <td>The Benefits of DAILY PRACTICE &amp; REVIEW (And h...</td>\n",
       "      <td>eng</td>\n",
       "      <td>7091ac68-625d-4aa2-bdb0-a82d8d90318d</td>\n",
       "      <td>http://todayinsecondgrade.blogspot.com/2018/12...</td>\n",
       "      <td>5</td>\n",
       "      <td>1232</td>\n",
       "      <td>meta-llama/Meta-Llama-3.1-8B-Instruct-Turbo</td>\n",
       "      <td>5</td>\n",
       "    </tr>\n",
       "    <tr>\n",
       "      <th>8</th>\n",
       "      <td>public static void main(String[] args) {\\nint ...</td>\n",
       "      <td>eng</td>\n",
       "      <td>fe36fe76-d1f9-4399-9786-2f3b3ad6db0a</td>\n",
       "      <td>https://codedump.io/share/JxQPTStLdvfM/1/java-...</td>\n",
       "      <td>5</td>\n",
       "      <td>202</td>\n",
       "      <td>meta-llama/Meta-Llama-3.1-8B-Instruct-Turbo</td>\n",
       "      <td>4</td>\n",
       "    </tr>\n",
       "    <tr>\n",
       "      <th>59</th>\n",
       "      <td>Can SAP Resources Determine if Something is Tr...</td>\n",
       "      <td>eng</td>\n",
       "      <td>a54d5762-e93a-4301-af1a-47ff98363e0d</td>\n",
       "      <td>https://www.brightworkresearch.com/can-sap-res...</td>\n",
       "      <td>4</td>\n",
       "      <td>544</td>\n",
       "      <td>meta-llama/Meta-Llama-3.1-8B-Instruct-Turbo</td>\n",
       "      <td>4</td>\n",
       "    </tr>\n",
       "    <tr>\n",
       "      <th>40</th>\n",
       "      <td>Retinal detachment is a very serious eye condi...</td>\n",
       "      <td>eng</td>\n",
       "      <td>767d0f08-8bb4-479a-8a8d-5547da8eb0ca</td>\n",
       "      <td>http://www.webmd.com/eye-health/eye-health-ret...</td>\n",
       "      <td>5</td>\n",
       "      <td>784</td>\n",
       "      <td>meta-llama/Meta-Llama-3.1-8B-Instruct-Turbo</td>\n",
       "      <td>3</td>\n",
       "    </tr>\n",
       "    <tr>\n",
       "      <th>...</th>\n",
       "      <td>...</td>\n",
       "      <td>...</td>\n",
       "      <td>...</td>\n",
       "      <td>...</td>\n",
       "      <td>...</td>\n",
       "      <td>...</td>\n",
       "      <td>...</td>\n",
       "      <td>...</td>\n",
       "    </tr>\n",
       "    <tr>\n",
       "      <th>123</th>\n",
       "      <td>\"I have a problem writing about both because o...</td>\n",
       "      <td>eng</td>\n",
       "      <td>b23c01b8-14a2-44e1-a041-d334992d64f0</td>\n",
       "      <td>https://www.f1-fansite.com/f1-news/journalists...</td>\n",
       "      <td>3</td>\n",
       "      <td>360</td>\n",
       "      <td>meta-llama/Meta-Llama-3.1-8B-Instruct-Turbo</td>\n",
       "      <td>0</td>\n",
       "    </tr>\n",
       "    <tr>\n",
       "      <th>65</th>\n",
       "      <td>Why People Think Homes Are A Good Idea\\n\\nMarg...</td>\n",
       "      <td>eng</td>\n",
       "      <td>9b0a68b9-c24e-469e-8b84-a01280577c38</td>\n",
       "      <td>http://noticiasraras.info/why-people-think-hom...</td>\n",
       "      <td>4</td>\n",
       "      <td>608</td>\n",
       "      <td>meta-llama/Meta-Llama-3.1-8B-Instruct-Turbo</td>\n",
       "      <td>0</td>\n",
       "    </tr>\n",
       "    <tr>\n",
       "      <th>68</th>\n",
       "      <td>Monday, April 22, 2013\\n\\nTexmex, oil painting...</td>\n",
       "      <td>eng</td>\n",
       "      <td>81d125ca-aa77-4730-b878-9752201337a6</td>\n",
       "      <td>http://abercrombie-su.blogspot.com/2013/04/tex...</td>\n",
       "      <td>4</td>\n",
       "      <td>918</td>\n",
       "      <td>meta-llama/Meta-Llama-3.1-8B-Instruct-Turbo</td>\n",
       "      <td>0</td>\n",
       "    </tr>\n",
       "    <tr>\n",
       "      <th>69</th>\n",
       "      <td>Bundles\\n\\nWith our bundled courses, you'll be...</td>\n",
       "      <td>eng</td>\n",
       "      <td>ca5cb5d6-78fc-45c6-adaa-1f340d2c03cd</td>\n",
       "      <td>http://www.learn2serve.com/florida-alcohol-ser...</td>\n",
       "      <td>4</td>\n",
       "      <td>349</td>\n",
       "      <td>meta-llama/Meta-Llama-3.1-8B-Instruct-Turbo</td>\n",
       "      <td>0</td>\n",
       "    </tr>\n",
       "    <tr>\n",
       "      <th>249</th>\n",
       "      <td>Ok i have a D-Link DWL-G510 wireless card. It ...</td>\n",
       "      <td>eng</td>\n",
       "      <td>cbb75461-878c-4309-a282-7fc0f06f08ee</td>\n",
       "      <td>http://www.msfn.org/board/profile/52193-tdunks/</td>\n",
       "      <td>1</td>\n",
       "      <td>151</td>\n",
       "      <td>meta-llama/Meta-Llama-3.1-8B-Instruct-Turbo</td>\n",
       "      <td>0</td>\n",
       "    </tr>\n",
       "  </tbody>\n",
       "</table>\n",
       "<p>250 rows × 8 columns</p>\n",
       "</div>"
      ],
      "text/plain": [
       "                                                  text language  \\\n",
       "93   Category Manfre23961\\n\\nFuture value annuity d...      eng   \n",
       "49   The Benefits of DAILY PRACTICE & REVIEW (And h...      eng   \n",
       "8    public static void main(String[] args) {\\nint ...      eng   \n",
       "59   Can SAP Resources Determine if Something is Tr...      eng   \n",
       "40   Retinal detachment is a very serious eye condi...      eng   \n",
       "..                                                 ...      ...   \n",
       "123  \"I have a problem writing about both because o...      eng   \n",
       "65   Why People Think Homes Are A Good Idea\\n\\nMarg...      eng   \n",
       "68   Monday, April 22, 2013\\n\\nTexmex, oil painting...      eng   \n",
       "69   Bundles\\n\\nWith our bundled courses, you'll be...      eng   \n",
       "249  Ok i have a D-Link DWL-G510 wireless card. It ...      eng   \n",
       "\n",
       "                           warc_record_id  \\\n",
       "93   c51fa0e6-fc66-446a-8e3a-7e942413196d   \n",
       "49   7091ac68-625d-4aa2-bdb0-a82d8d90318d   \n",
       "8    fe36fe76-d1f9-4399-9786-2f3b3ad6db0a   \n",
       "59   a54d5762-e93a-4301-af1a-47ff98363e0d   \n",
       "40   767d0f08-8bb4-479a-8a8d-5547da8eb0ca   \n",
       "..                                    ...   \n",
       "123  b23c01b8-14a2-44e1-a041-d334992d64f0   \n",
       "65   9b0a68b9-c24e-469e-8b84-a01280577c38   \n",
       "68   81d125ca-aa77-4730-b878-9752201337a6   \n",
       "69   ca5cb5d6-78fc-45c6-adaa-1f340d2c03cd   \n",
       "249  cbb75461-878c-4309-a282-7fc0f06f08ee   \n",
       "\n",
       "                                                   url  score  token_count  \\\n",
       "93   https://digitaloptionsgkdb.web.app/manfre23961...      4         1415   \n",
       "49   http://todayinsecondgrade.blogspot.com/2018/12...      5         1232   \n",
       "8    https://codedump.io/share/JxQPTStLdvfM/1/java-...      5          202   \n",
       "59   https://www.brightworkresearch.com/can-sap-res...      4          544   \n",
       "40   http://www.webmd.com/eye-health/eye-health-ret...      5          784   \n",
       "..                                                 ...    ...          ...   \n",
       "123  https://www.f1-fansite.com/f1-news/journalists...      3          360   \n",
       "65   http://noticiasraras.info/why-people-think-hom...      4          608   \n",
       "68   http://abercrombie-su.blogspot.com/2013/04/tex...      4          918   \n",
       "69   http://www.learn2serve.com/florida-alcohol-ser...      4          349   \n",
       "249    http://www.msfn.org/board/profile/52193-tdunks/      1          151   \n",
       "\n",
       "                                           model  llm-score  \n",
       "93   meta-llama/Meta-Llama-3.1-8B-Instruct-Turbo          5  \n",
       "49   meta-llama/Meta-Llama-3.1-8B-Instruct-Turbo          5  \n",
       "8    meta-llama/Meta-Llama-3.1-8B-Instruct-Turbo          4  \n",
       "59   meta-llama/Meta-Llama-3.1-8B-Instruct-Turbo          4  \n",
       "40   meta-llama/Meta-Llama-3.1-8B-Instruct-Turbo          3  \n",
       "..                                           ...        ...  \n",
       "123  meta-llama/Meta-Llama-3.1-8B-Instruct-Turbo          0  \n",
       "65   meta-llama/Meta-Llama-3.1-8B-Instruct-Turbo          0  \n",
       "68   meta-llama/Meta-Llama-3.1-8B-Instruct-Turbo          0  \n",
       "69   meta-llama/Meta-Llama-3.1-8B-Instruct-Turbo          0  \n",
       "249  meta-llama/Meta-Llama-3.1-8B-Instruct-Turbo          0  \n",
       "\n",
       "[250 rows x 8 columns]"
      ]
     },
     "execution_count": 22,
     "metadata": {},
     "output_type": "execute_result"
    }
   ],
   "source": [
    "xx = df_scores_all.sort_values(by='llm-score', ascending=False)\n",
    "xx"
   ]
  },
  {
   "cell_type": "code",
   "execution_count": 23,
   "id": "b1f12e00-ce7e-4454-9c73-00190ae364da",
   "metadata": {},
   "outputs": [
    {
     "name": "stdout",
     "output_type": "stream",
     "text": [
      "The Benefits of DAILY PRACTICE & REVIEW (And how to implement it in your daily routine.)\n",
      "\n",
      "Wednesday, 5 December 2018\n",
      "\n",
      "Hi Friends,\n",
      "\n",
      "Today in Second Grade we reviewed and practiced in ELA and MATH. I actually do this EVERYDAY. Daily practice and review is how I get my kiddies to improve in reading and number sense. It's how I ensure that all my students acquire those important base skills that help them with grade level work in ELA and MATH.\n",
      "\n",
      "I usually try to set aside 30-45 minutes (in ELA) and 15-20 minutes (in MATH) a day for this. It may seem like a lot of time to devote to practice/review, but without basic skills students will have difficulties grasping grade level content. Just like taking time at the beginning of the year to teach behavior expectations and routine will pay off and save time later on, so will practicing and reviewing phonics, sight words, and number sense.\n",
      "\n",
      "You might be wondering how I manage to reach all levels during practice/review. There is a lot of differentiated instruction going on during these blocks. Although, I have many students who NEED phonics practice, I also have quite a few who are beyond that and need a different challenge. This is when my attendant or parent volunteers are so important. I make sure to have appropriate activities prepared for all students and usually ask the other adult in the room to sit with a group and guide them. Sometimes, I'm alone so I make sure that the work is easy for the group to complete ON THEIR OWN. I want all students to get what they need during practice/review time.\n",
      "\n",
      "ELA\n",
      "\n",
      "In ELA, my main focus during this block is usually reading. Many students are still struggling with phonics, CVC words, sight words, etc... We work on these skills in a specific order and move along as quickly or slowly as we need to. I begin with a short group lesson on the interactive whiteboard and then the students work individually on digital games or printable worksheets. While they work, I pull students aside for quick phonics or sight word checks and even a little guided reading. You wouldn't imagine the great information I get from these blocks and one-on-one time with students.\n",
      "\n",
      "My advanced readers complete novel study activities and enriched vocabulary activities. They love the challenge. I also make time to meet with them individually and do some guided reading too (we don't meet for GR as often but I make it a point to read with them as well).\n",
      "\n",
      "At least twice a week, I devote some of our practice/review time to journal writing for ALL students. There are no rules. They are expected to write about anything and everything. The other day a student showed me her journal entry for the day and it was simply a list of ways to say hello in different languages. It was so precious. My colleague recently gave me the idea to allow students to ask me questions in their journal. When I look through them I can answer them. I'm very excited to implement this, I think the students will be even more excited about journal writing than they already are! Journal writing, is another great time to meet with kids in small groups or one-on-one.\n",
      "\n",
      "I also devote 5-10 minutes to songs (not every time but when we can). Singing is such a great way to practice fluency and help students gain confidence in reading (the repeated activity allows them to be able to read the lyrics and feel great about it). I share the lyrics with the students and they even bring them home. I usually print a few songs for each theme and hand them out at the beginning of the month. We sing them all month long and it's so much fun!\n",
      "\n",
      "MATH\n",
      "\n",
      "Our math practice/review often happens in the first 10-15 minutes of our regular math block for the day. It almost always includes all students together. I begin by playing a lot of 100 chart games. Learning to understand that each row has ten numbers and that each column is ten more. We learn to count by 10s and 1s. You can check out my blogpost on number sense HERE. We also sing a lot of songs. Even though certain skills like addition and subtraction strategies are only taught in January, we begin right at the beginning of the year. We learn to add doubles, count on, skip count, ect... They get so good and comfortable with it that I begin asking questions like: \"What's 225 + 225?\" and \"What's 300 more than 600?\" or \"What's the skip counting rule for 310, 320, 330?\" They love when they can transfer their learning to BIG NUMBERS!\n",
      "\n",
      "We also subtitize! A LOT! This skill is so important and really helps students better understand numbers and just be quicker with math. Once again, all this practice really has great benefits. After a few weeks I can already see improvement and better understanding of math concepts. They just pick up new learning so much quicker and easier with this practice.\n",
      "\n",
      "Some math blocks are just devoted to practice and review. After a short whole group lesson consisting of some (never all) of the activities mentioned above, I ask students to complete digital math games or printables to practice number sense on their own. Once again, this is a great time for me to meet in small guided math groups and go over anything that students are struggling with during the week.\n",
      "\n",
      "These practice/review sessions are not only beneficial to help students improve in ELA and MATH , but also give me lots of opportunities to meet with students. Meeting with students in small groups and one-on-one is SO important. I know it can be hard (trust me I've had years where it was near impossible) but we must find the opportunities to do so even if it's just for a few minutes. The information we get from meeting with students is GOLD. You can then use it to guide your teaching and make sure you are reaching every student and meeting all of their needs.\n"
     ]
    }
   ],
   "source": [
    "completions = chat_model.batch(inputs=[prompt_template.invoke({\"prompt\": xx.loc[49][\"text\"]}) ])\n",
    "completions\n",
    "print(xx.loc[49][\"text\"])"
   ]
  },
  {
   "cell_type": "code",
   "execution_count": null,
   "id": "21280bd8-0891-4278-8238-7b00ee19a492",
   "metadata": {},
   "outputs": [],
   "source": []
  }
 ],
 "metadata": {
  "kernelspec": {
   "display_name": "Python 3 (ipykernel)",
   "language": "python",
   "name": "python3"
  },
  "language_info": {
   "codemirror_mode": {
    "name": "ipython",
    "version": 3
   },
   "file_extension": ".py",
   "mimetype": "text/x-python",
   "name": "python",
   "nbconvert_exporter": "python",
   "pygments_lexer": "ipython3",
   "version": "3.12.9"
  }
 },
 "nbformat": 4,
 "nbformat_minor": 5
}
